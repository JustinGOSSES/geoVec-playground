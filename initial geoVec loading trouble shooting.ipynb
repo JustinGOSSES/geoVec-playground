{
 "cells": [
  {
   "cell_type": "markdown",
   "metadata": {},
   "source": [
    "# Quick exploration of geovec, a pre-trained word embedding in gloVe format"
   ]
  },
  {
   "cell_type": "markdown",
   "metadata": {},
   "source": [
    "#### Data file of the pretrained embedding is downloaded from these links:"
   ]
  },
  {
   "cell_type": "markdown",
   "metadata": {},
   "source": [
    "download site & information https://osf.io/4uyeq/wiki/home/"
   ]
  },
  {
   "cell_type": "markdown",
   "metadata": {},
   "source": [
    "h5 file = https://osf.io/4uyeq/"
   ]
  },
  {
   "cell_type": "markdown",
   "metadata": {},
   "source": [
    "Medium article by authors: https://towardsdatascience.com/geovec-word-embeddings-for-geosciences-ac1e1e854e19"
   ]
  },
  {
   "cell_type": "code",
   "execution_count": 1,
   "metadata": {
    "collapsed": true
   },
   "outputs": [],
   "source": []
  },
  {
   "cell_type": "code",
   "execution_count": 40,
   "metadata": {},
   "outputs": [],
   "source": [
    "#conda install -c anaconda scikit-learn \n",
    "# !pip install h5py\n",
    "#!conda install -c anaconda h5py "
   ]
  },
  {
   "cell_type": "code",
   "execution_count": 1,
   "metadata": {
    "collapsed": true
   },
   "outputs": [],
   "source": [
    "import numpy as np\n",
    "from scipy import spatial\n",
    "import matplotlib.pyplot as plt\n",
    "#from sklearn.manifold import TSNE"
   ]
  },
  {
   "cell_type": "code",
   "execution_count": 11,
   "metadata": {
    "collapsed": true
   },
   "outputs": [],
   "source": [
    "import json\n",
    "import h5py\n",
    "import numpy as np"
   ]
  },
  {
   "cell_type": "markdown",
   "metadata": {},
   "source": [
    "##### glove python is a dependency mentioend by the authors\n",
    "##### DON'T DO THIS AS IT HAS AlL SORTS OF PROBLEMS ON MACOS AND WINDOWS"
   ]
  },
  {
   "cell_type": "markdown",
   "metadata": {},
   "source": [
    "#!pip install glove_python"
   ]
  },
  {
   "cell_type": "markdown",
   "metadata": {},
   "source": [
    "### Instead of using glove-python, we can just open the file this way"
   ]
  },
  {
   "cell_type": "code",
   "execution_count": 12,
   "metadata": {},
   "outputs": [],
   "source": [
    "with h5py.File('geovec_300d_v1.h5', 'r') as f:\n",
    "        v = np.zeros(f['vectors'].shape, f['vectors'].dtype)\n",
    "        f['vectors'].read_direct(v)\n",
    "        dct = f['dct'][()].tostring().decode('utf-8')\n",
    "        dct = json.loads(dct)"
   ]
  },
  {
   "cell_type": "code",
   "execution_count": 13,
   "metadata": {},
   "outputs": [
    {
     "name": "stdout",
     "output_type": "stream",
     "text": [
      "number of words with vector embeddings 411845\n",
      "number of vectors in each embedding 300\n"
     ]
    }
   ],
   "source": [
    "#### number of words with vector embeddings\n",
    "print(\"number of words with vector embeddings\",len(v))\n",
    "#### Length of vectors\n",
    "print(\"number of vectors in each embedding\",len(v[1]))"
   ]
  },
  {
   "cell_type": "code",
   "execution_count": 14,
   "metadata": {},
   "outputs": [
    {
     "name": "stdout",
     "output_type": "stream",
     "text": [
      "number of words total 411845\n",
      "and what each word in dictionary looks like:  czk : 22760\n"
     ]
    }
   ],
   "source": [
    "print(\"number of words total\",len(dct))\n",
    "print(\"and what each word in dictionary looks like: \",list(dct.keys())[0:1][0],\":\",dct[list(dct.keys())[0:1][0]])"
   ]
  },
  {
   "cell_type": "code",
   "execution_count": 15,
   "metadata": {},
   "outputs": [
    {
     "name": "stdout",
     "output_type": "stream",
     "text": [
      "embedding for acrodermatitis [-1.30995736e-01 -4.28154431e-02  2.80044712e-02  2.24730801e-02\n",
      "  1.08891524e-01  6.49804547e-02 -2.53431760e-02  1.98111311e-02\n",
      "  7.63765946e-02  5.05149923e-02  7.23294541e-02 -1.54078543e-01\n",
      "  5.51027525e-03  2.01065950e-02  3.81736420e-02  6.16133250e-02\n",
      " -3.13544199e-02 -5.44905961e-02  2.41423100e-02 -7.96810985e-02\n",
      " -1.03932992e-02  2.94023491e-02 -6.15653917e-02 -4.95412126e-02\n",
      " -4.76407111e-02 -8.11042357e-03 -5.03108166e-02  2.33988669e-02\n",
      "  1.40077055e-01 -3.35434303e-02  1.31544890e-02  8.25414881e-02\n",
      " -2.48029325e-02  3.51205282e-02  1.45962080e-02  1.84752196e-02\n",
      " -5.32907806e-02 -3.62833925e-02  7.11244904e-03  9.25709605e-02\n",
      "  9.25662965e-02  1.30731110e-02  6.71290420e-03 -6.73174635e-02\n",
      " -1.04899555e-01  1.13067016e-01 -1.97199620e-02  1.14358701e-01\n",
      "  5.27347662e-02  9.46701765e-02 -3.02816592e-02  3.35829519e-02\n",
      "  4.47546132e-02 -1.33828958e-02  1.27948329e-01  1.12814896e-01\n",
      "  2.29229406e-02  6.14958629e-02  3.79348993e-02 -1.09325647e-01\n",
      " -1.62725877e-02 -3.04736793e-02 -6.00382835e-02  9.95069668e-02\n",
      " -1.16975389e-01  1.23410627e-01  7.44702946e-03  7.05143064e-02\n",
      " -7.82666355e-02 -4.18221727e-02  7.05140010e-02 -4.36482131e-02\n",
      "  5.48783736e-03 -5.54607995e-02 -4.51682247e-02  4.48218435e-02\n",
      " -5.69435209e-02  4.02739942e-02 -2.54371203e-02 -2.42928378e-02\n",
      "  3.21936375e-03 -2.28006709e-02 -1.03539284e-02  3.28424089e-02\n",
      " -3.43378559e-02  1.04557769e-02  8.36213604e-02  7.65748024e-02\n",
      " -4.18310426e-02  1.94581188e-02  2.54693963e-02 -3.27857845e-02\n",
      "  1.47543713e-01  3.11437566e-02 -6.47020563e-02 -6.40034005e-02\n",
      "  4.29200642e-02  5.77488914e-02  1.38039226e-02 -1.38574719e-01\n",
      " -1.07613474e-01  9.28414986e-02 -2.93361638e-02 -6.62832260e-02\n",
      "  5.06431647e-02  8.85395259e-02  5.93813658e-02 -4.26874347e-02\n",
      " -9.89751071e-02  3.82332765e-02 -4.94275689e-02 -4.13285121e-02\n",
      " -1.26617765e-02 -4.22044732e-02  1.28487200e-01 -4.33696434e-02\n",
      "  9.30928532e-03  7.81330839e-02  2.06105541e-02 -1.20481476e-01\n",
      " -2.20717900e-02 -1.15630031e-01 -1.62035022e-02 -8.46326873e-02\n",
      " -3.81716317e-03  6.37074336e-02  2.97388597e-03  8.31017550e-03\n",
      "  1.15729265e-01 -9.95519012e-03 -8.89085699e-03  3.67189497e-02\n",
      " -4.04079482e-02  1.64243460e-01  8.63768607e-02 -5.17414622e-02\n",
      " -8.41187537e-02 -1.72416270e-01  4.84612882e-02  6.36051549e-03\n",
      "  2.45798863e-02 -8.63696076e-03 -8.39694366e-02  2.09106375e-02\n",
      "  1.97939314e-02  3.34746242e-02 -5.44125102e-02  8.96570757e-02\n",
      "  2.55529042e-02 -2.15085037e-02 -2.03601215e-02  5.32910191e-02\n",
      " -5.86444587e-02 -5.19324131e-02  9.05698072e-03  3.01399771e-02\n",
      "  7.29324371e-02 -2.76673455e-02  1.19376040e-04  6.51407540e-02\n",
      " -3.32946777e-02  4.61079180e-02  1.26827762e-01 -6.32265061e-02\n",
      "  2.55331732e-02 -1.11073889e-01 -3.79062518e-02 -4.97850515e-02\n",
      "  1.60332657e-02  3.52490805e-02  8.31637438e-03  1.34355919e-02\n",
      "  1.67314243e-02 -9.50419903e-02 -4.09230366e-02  8.39413889e-03\n",
      " -2.76163239e-02  4.89445366e-02  2.95487437e-02  7.40235895e-02\n",
      " -7.33808056e-02 -3.07869562e-03 -2.42821826e-03  7.55188568e-03\n",
      " -3.85037623e-02 -7.25635216e-02 -7.70523176e-02 -4.15711477e-02\n",
      "  9.20565203e-02  4.16563489e-02  4.76017967e-02 -5.58674596e-02\n",
      " -1.03859659e-02 -4.89922576e-02 -3.68758217e-02 -3.10004130e-02\n",
      "  5.42480126e-02 -1.66843813e-02  1.07611474e-02  3.80217768e-02\n",
      "  1.09029293e-01 -7.50925438e-03 -1.28228575e-01 -1.28335496e-02\n",
      "  2.75599044e-02 -9.02427286e-02  2.41239294e-02  9.03194919e-02\n",
      "  2.52065063e-02 -6.07878529e-02 -1.35125574e-02  1.43818324e-02\n",
      "  8.05766061e-02  9.89720896e-02 -3.95064149e-03  5.05853519e-02\n",
      " -4.75431606e-02 -1.23822488e-01 -9.88190100e-02 -1.37129620e-01\n",
      "  3.76539454e-02  8.29608962e-02 -1.11912368e-02  1.09151853e-02\n",
      " -8.78523216e-02 -5.88399805e-02  1.04850814e-01  6.54218122e-02\n",
      " -6.63761422e-03 -6.92528263e-02  1.72958061e-01 -6.20057322e-02\n",
      " -7.16853747e-03 -2.70460229e-02 -5.09811640e-02  1.01763979e-01\n",
      "  7.89517388e-02 -1.16455682e-01  1.07052810e-02  2.96392041e-04\n",
      "  6.74230158e-02 -3.06251254e-02 -4.05660458e-02  4.27250713e-02\n",
      "  2.45873667e-02  2.60700677e-02 -5.57472967e-02  1.05368607e-01\n",
      " -3.17630097e-02  1.26506701e-01  1.58590190e-02  6.81616142e-02\n",
      "  6.64919242e-02  7.34151006e-02  8.20857435e-02  2.88975351e-02\n",
      "  1.05216086e-01  4.05060835e-02 -6.38638064e-02 -6.39081225e-02\n",
      "  4.68627550e-02  5.25917187e-02  2.83922814e-02 -1.77073151e-01\n",
      " -1.21750429e-01 -1.06975257e-01 -2.58311182e-02 -1.53084984e-02\n",
      " -3.65674831e-02 -3.51027995e-02  4.98622581e-02  4.08563912e-02\n",
      " -1.53584499e-02  1.89236794e-02  1.34342089e-01  1.23621998e-02\n",
      "  6.12872504e-02 -8.76416489e-02 -2.26687789e-02  1.25514641e-01\n",
      " -3.58962528e-02  5.23787066e-02  1.08538523e-01  7.68071925e-03\n",
      " -9.74050164e-02  7.00506642e-02 -7.41669685e-02  2.17494555e-03\n",
      "  2.61484012e-02 -7.83101395e-02 -7.06825703e-02 -6.42592460e-02\n",
      " -7.72593915e-02  6.63008243e-02 -1.03493370e-01 -1.72394626e-02\n",
      "  2.62462460e-02 -8.84278268e-02  5.62986359e-02 -1.60009023e-02]\n"
     ]
    }
   ],
   "source": [
    "print(\"embedding for acrodermatitis\",v[dct[list(dct.keys())[0:1][0]]])"
   ]
  },
  {
   "cell_type": "code",
   "execution_count": 16,
   "metadata": {},
   "outputs": [
    {
     "data": {
      "text/plain": [
       "['czk',\n",
       " 'zabin',\n",
       " 'sesan',\n",
       " 'midge',\n",
       " 'coenopteridales',\n",
       " 'microdisplacement',\n",
       " 'lootable',\n",
       " 'kurpiowska',\n",
       " 'nucleophilic',\n",
       " 'imbramowice']"
      ]
     },
     "execution_count": 16,
     "metadata": {},
     "output_type": "execute_result"
    }
   ],
   "source": [
    "list(dct.keys())[0:10]"
   ]
  },
  {
   "cell_type": "code",
   "execution_count": 17,
   "metadata": {},
   "outputs": [
    {
     "data": {
      "text/plain": [
       "numpy.ndarray"
      ]
     },
     "execution_count": 17,
     "metadata": {},
     "output_type": "execute_result"
    }
   ],
   "source": [
    "type(v)"
   ]
  },
  {
   "cell_type": "code",
   "execution_count": 18,
   "metadata": {
    "collapsed": true
   },
   "outputs": [],
   "source": [
    "#v"
   ]
  },
  {
   "cell_type": "markdown",
   "metadata": {},
   "source": [
    "### We'll combine the two files into a single dictionary to make some later things a bit easier. It isn't saved in thi format to save space according to the authors who trained it"
   ]
  },
  {
   "cell_type": "code",
   "execution_count": 19,
   "metadata": {
    "collapsed": true
   },
   "outputs": [],
   "source": [
    "def replaceIntsWithWords(vectors,dictionary):\n",
    "    words = list(dct.keys())\n",
    "    embeddings_dict = {}\n",
    "    for word in words:\n",
    "        embeddings_dict[word] = np.asarray(v[dictionary[word]][:],\"float32\")\n",
    "    return embeddings_dict"
   ]
  },
  {
   "cell_type": "code",
   "execution_count": 20,
   "metadata": {
    "collapsed": true
   },
   "outputs": [],
   "source": [
    "new_vector_embedding = replaceIntsWithWords(v,dct)"
   ]
  },
  {
   "cell_type": "code",
   "execution_count": 22,
   "metadata": {},
   "outputs": [
    {
     "data": {
      "text/plain": [
       "array([ 0.03063519, -0.41190132, -0.01748249, -0.03562951, -0.44922313,\n",
       "       -0.23300318,  0.22224723, -0.07885347,  0.02758265, -0.07660752,\n",
       "       -0.39882764,  0.19357805, -0.03862172, -0.16392523, -0.08809105,\n",
       "       -0.15323128, -0.17489772,  0.14711891,  0.10426124, -0.02329986,\n",
       "        0.09977868,  0.23435533,  0.3037015 , -0.6652086 , -0.1779219 ,\n",
       "        0.16997509, -0.0749488 , -0.4623773 , -0.18799299, -0.04015233,\n",
       "       -0.1230348 , -0.324141  ,  0.32538635,  0.27751258, -0.04844321,\n",
       "        0.04106978,  0.3250498 ,  0.4131149 ,  0.41197386,  0.05734786,\n",
       "       -0.28493047,  0.05330373, -0.30320197, -0.6228066 ,  0.17232999,\n",
       "        0.13726279,  0.02862607,  0.00987866, -0.22104132, -0.27486506,\n",
       "        0.3875012 ,  0.05712619,  0.30534878, -0.17705044, -0.19142899,\n",
       "       -0.1692242 , -0.3759296 ,  0.35963646, -0.02505949,  0.05952422,\n",
       "        0.33059987,  0.18033917,  0.05865888,  0.1908917 ,  0.03191795,\n",
       "       -0.3452011 , -0.4242747 ,  0.02242155, -0.08702113, -0.36016336,\n",
       "       -0.09096049, -0.15263985, -0.10395551,  0.3015002 , -0.19887997,\n",
       "        0.17470044,  0.4872355 ,  0.17027885,  0.1629167 ,  0.2500491 ,\n",
       "        0.0590988 , -0.30714718,  0.33032542, -0.54410225,  0.2931073 ,\n",
       "       -0.0657116 , -0.0493247 , -0.04416075,  0.23244466, -0.4811705 ,\n",
       "       -0.11674033,  0.5065609 , -0.23595892, -0.40718448,  0.03079501,\n",
       "       -0.02404374, -0.05897579, -0.40997535, -0.29971278, -0.06485663,\n",
       "       -0.0735241 , -0.57915825,  0.04794372,  0.15152007, -0.38089737,\n",
       "        0.04072325, -0.0973587 , -0.281366  , -0.0866443 ,  0.07327744,\n",
       "       -0.1289843 , -0.03622092, -0.16641869, -0.02401751,  0.01719305,\n",
       "       -0.18703395,  0.36526188,  0.3011297 ,  0.10935438,  0.2580626 ,\n",
       "        0.34569156, -0.14707701,  0.26744878, -0.23805387, -0.06046972,\n",
       "        0.43298253, -0.38266245, -0.2280435 , -0.09001176,  0.22924648,\n",
       "        0.01707637, -0.21080957, -0.2534994 , -0.20905982, -0.31777838,\n",
       "        0.02439837,  0.18417667,  0.14000054, -0.15615216, -0.2249662 ,\n",
       "       -0.02894812, -0.33743653, -0.41191328, -0.05852659, -0.33302596,\n",
       "        0.04976951,  0.5980457 , -0.04356075, -0.18495524,  0.20690395,\n",
       "        0.05941332, -0.32292056,  0.17914008, -0.500527  , -0.26573032,\n",
       "       -0.08153787,  0.12664302, -0.33359897,  0.25827253,  0.1932546 ,\n",
       "        0.24806926, -0.10873552, -0.4112353 , -0.48139846, -0.24745034,\n",
       "        0.4930274 ,  0.20221478,  0.1466965 ,  0.27478045,  0.08422571,\n",
       "        0.0078306 ,  0.00467938,  0.12200137,  0.38119838,  0.63320845,\n",
       "       -0.23246406,  0.13708606, -0.07137589, -0.06196122, -0.3991872 ,\n",
       "       -0.16195753,  0.39561355,  0.1375364 , -0.34327468,  0.160251  ,\n",
       "        0.2830336 , -0.0162445 ,  0.4052586 , -0.11772639,  0.08404472,\n",
       "       -0.07816593, -0.04536095, -0.15027593, -0.07181185, -0.40633082,\n",
       "       -0.13952276,  0.1901891 ,  0.46117383, -0.04458065, -0.4252203 ,\n",
       "       -0.36120528,  0.30159628,  0.39013577,  0.0528173 , -0.12946293,\n",
       "        0.3917904 , -0.16849914, -0.24559385, -0.20524621, -0.00520904,\n",
       "        0.02467151,  0.3680092 , -0.13684408, -0.03159561, -0.17883603,\n",
       "       -0.21492326,  0.53078973,  0.33911052,  0.09338158, -0.23546411,\n",
       "       -0.09534077,  0.2798333 ,  0.11799586, -0.351914  , -0.06308249,\n",
       "        0.11057905, -0.12907316,  0.07775687,  0.03375599,  0.22878551,\n",
       "       -0.19734228, -0.15298705,  0.03418294, -0.1719191 ,  0.23001723,\n",
       "       -0.23243229,  0.16741559,  0.05114592, -0.06052561, -0.46340165,\n",
       "       -0.46262592, -0.6035481 ,  0.16142583, -0.48702064, -0.19704111,\n",
       "       -0.46407148, -0.05907227, -0.17363416, -0.04588016,  0.08782403,\n",
       "        0.45838422, -0.01058303, -0.36841273,  0.03393587, -0.00892907,\n",
       "        0.01773651, -0.02713825, -0.18003365, -0.23333898, -0.23033081,\n",
       "        0.22356518, -0.19672231,  0.07019778,  0.34114864,  0.21038549,\n",
       "       -0.01267198, -0.0917694 , -0.5532432 , -0.21704294, -0.51371676,\n",
       "        0.04314219,  0.05385855, -0.20565934, -0.12910867, -0.38981983,\n",
       "       -0.22497126,  0.25124222,  0.10278568, -0.34534988, -0.13590793,\n",
       "        0.43126598,  0.22235622, -0.29292405, -0.01442697,  0.19515485,\n",
       "        0.08376491, -0.4344467 , -0.12742433, -0.17324965, -0.12557042,\n",
       "        0.13236505,  0.29445967,  0.02982007, -0.22455895,  0.16065286,\n",
       "       -0.20524757,  0.08688244,  0.22455838,  0.11694988, -0.00187241],\n",
       "      dtype=float32)"
      ]
     },
     "execution_count": 22,
     "metadata": {},
     "output_type": "execute_result"
    }
   ],
   "source": [
    "new_vector_embedding[\"sandstone\"]"
   ]
  },
  {
   "cell_type": "markdown",
   "metadata": {},
   "source": [
    "### Now let's play around a bit to find out what words are close to others in the embedding space"
   ]
  },
  {
   "cell_type": "code",
   "execution_count": 23,
   "metadata": {
    "collapsed": true
   },
   "outputs": [],
   "source": [
    "def find_closest_embeddings(embeddings_dict,embedding_vector):\n",
    "    return sorted(embeddings_dict.keys(), key=lambda word: spatial.distance.euclidean(embeddings_dict[word], embedding_vector))"
   ]
  },
  {
   "cell_type": "code",
   "execution_count": 24,
   "metadata": {},
   "outputs": [
    {
     "data": {
      "text/plain": [
       "411845"
      ]
     },
     "execution_count": 24,
     "metadata": {},
     "output_type": "execute_result"
    }
   ],
   "source": [
    "len(new_vector_embedding.keys())"
   ]
  },
  {
   "cell_type": "code",
   "execution_count": 25,
   "metadata": {},
   "outputs": [
    {
     "data": {
      "text/plain": [
       "4.911217212677002"
      ]
     },
     "execution_count": 25,
     "metadata": {},
     "output_type": "execute_result"
    }
   ],
   "source": [
    "spatial.distance.euclidean(new_vector_embedding['sandstone'], new_vector_embedding['granite'])"
   ]
  },
  {
   "cell_type": "code",
   "execution_count": 26,
   "metadata": {},
   "outputs": [
    {
     "data": {
      "text/plain": [
       "['sandstone',\n",
       " 'siltstone',\n",
       " 'mudstone',\n",
       " 'arkosic',\n",
       " 'conglomerate',\n",
       " 'rothbach',\n",
       " 'gröden',\n",
       " 'sonta',\n",
       " 'mudstones',\n",
       " 'interbedded']"
      ]
     },
     "execution_count": 26,
     "metadata": {},
     "output_type": "execute_result"
    }
   ],
   "source": [
    "find_closest_embeddings(new_vector_embedding,new_vector_embedding[\"sandstone\"])[0:10]"
   ]
  },
  {
   "cell_type": "code",
   "execution_count": 27,
   "metadata": {},
   "outputs": [
    {
     "data": {
      "text/plain": [
       "['granite',\n",
       " 'granitic',\n",
       " 'ebat',\n",
       " 'tuaní',\n",
       " 'kibe',\n",
       " 'lavadores',\n",
       " 'baerzhe',\n",
       " 'daguzhai',\n",
       " 'cooyerdoo',\n",
       " 'qôrqut']"
      ]
     },
     "execution_count": 27,
     "metadata": {},
     "output_type": "execute_result"
    }
   ],
   "source": [
    "find_closest_embeddings(new_vector_embedding,new_vector_embedding[\"granite\"])[0:10]"
   ]
  },
  {
   "cell_type": "code",
   "execution_count": 28,
   "metadata": {},
   "outputs": [
    {
     "data": {
      "text/plain": [
       "['crossbedding',\n",
       " 'lumi',\n",
       " 'unrein',\n",
       " 'superface',\n",
       " 'boundinaged',\n",
       " 'staretsky',\n",
       " 'essikado',\n",
       " 'gerlarch',\n",
       " 'doucette',\n",
       " 'szenleng',\n",
       " 'rhune',\n",
       " 'shihui',\n",
       " 'gackowa',\n",
       " 'lenticularity',\n",
       " 'tenappera',\n",
       " 'karlshafen',\n",
       " 'håkjerringdjupet',\n",
       " 'anorbital',\n",
       " 'eludicate',\n",
       " 'torom']"
      ]
     },
     "execution_count": 28,
     "metadata": {},
     "output_type": "execute_result"
    }
   ],
   "source": [
    "find_closest_embeddings(new_vector_embedding,new_vector_embedding[\"crossbedding\"])[0:20]"
   ]
  },
  {
   "cell_type": "markdown",
   "metadata": {},
   "source": [
    "### Looks like this is a lot of non-English words?!!"
   ]
  },
  {
   "cell_type": "markdown",
   "metadata": {},
   "source": [
    "### Let's try subtraction of pure vectors"
   ]
  },
  {
   "cell_type": "code",
   "execution_count": 35,
   "metadata": {},
   "outputs": [
    {
     "name": "stdout",
     "output_type": "stream",
     "text": [
      "['sagyeri', 'pregrowth', 'barzaloza', 'translatent', 'syntransform', 'dothan', 'superincumbent', 'corniola', 'adoudou', 'chingmei', 'březno', 'saberian', 'kulm', 'trentinara', 'flamy', 'chulca', 'setlaole', 'emborozu', 'ikpe', 'guxu', 'aib', 'sarsbukta', 'huilu', 'nunda', 'lecho']\n"
     ]
    }
   ],
   "source": [
    "print(find_closest_embeddings(new_vector_embedding,\n",
    "    new_vector_embedding[\"stratum\"] - new_vector_embedding[\"fault\"]\n",
    ")[:25])"
   ]
  },
  {
   "cell_type": "code",
   "execution_count": 37,
   "metadata": {},
   "outputs": [
    {
     "name": "stdout",
     "output_type": "stream",
     "text": [
      "['marble', 'sedef', 'pentelic', 'supren', 'macael', 'yeosan', 'calanchiole', 'pentelikon', 'kemalpasa', 'dionysos', 'borba', 'alabashka', 'iscehisar', 'maniçoba', 'hekkelstrand', 'benou', 'calcsilicates', 'evenes', 'harsin', 'montepuez', 'ayhan', 'nanshu', 'sanchuan', 'belevi', 'bettadabidu']\n"
     ]
    }
   ],
   "source": [
    "print(find_closest_embeddings(new_vector_embedding,\n",
    "    new_vector_embedding[\"marble\"] - new_vector_embedding[\"heat\"]\n",
    ")[:25])"
   ]
  },
  {
   "cell_type": "code",
   "execution_count": 38,
   "metadata": {},
   "outputs": [
    {
     "name": "stdout",
     "output_type": "stream",
     "text": [
      "['intratill', 'satitoa', 'boulder', 'montoz', 'laxe', 'kintradwell', 'unclimbed', 'settai', 'norber', 'alveolized', 'intertill', 'cipit', 'preexposure', 'kudaka', 'moutonnee', 'ventifacted', 'navabandar', 'sturgis', 'taufererberg', 'pineo', 'preexposed', 'mathu', 'runswick', 'spelonk', 'encierro']\n"
     ]
    }
   ],
   "source": [
    "print(find_closest_embeddings(new_vector_embedding,\n",
    "    new_vector_embedding[\"boulder\"] - new_vector_embedding[\"clay\"]\n",
    ")[:25])"
   ]
  },
  {
   "cell_type": "markdown",
   "metadata": {},
   "source": [
    "### A blunt approach doesn't work so well"
   ]
  },
  {
   "cell_type": "code",
   "execution_count": null,
   "metadata": {
    "collapsed": true
   },
   "outputs": [],
   "source": []
  }
 ],
 "metadata": {
  "kernelspec": {
   "display_name": "Python 3",
   "language": "python",
   "name": "python3"
  },
  "language_info": {
   "codemirror_mode": {
    "name": "ipython",
    "version": 3
   },
   "file_extension": ".py",
   "mimetype": "text/x-python",
   "name": "python",
   "nbconvert_exporter": "python",
   "pygments_lexer": "ipython3",
   "version": "3.5.2"
  }
 },
 "nbformat": 4,
 "nbformat_minor": 4
}
