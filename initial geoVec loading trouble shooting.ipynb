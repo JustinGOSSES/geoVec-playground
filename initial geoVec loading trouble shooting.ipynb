{
 "cells": [
  {
   "cell_type": "markdown",
   "metadata": {},
   "source": [
    "# Quick exploration of geovec, a pre-trained word embedding in gloVe format"
   ]
  },
  {
   "cell_type": "markdown",
   "metadata": {},
   "source": [
    "#### Data file of the pretrained embedding is downloaded from these links:"
   ]
  },
  {
   "cell_type": "markdown",
   "metadata": {},
   "source": [
    "download site & information https://osf.io/4uyeq/wiki/home/"
   ]
  },
  {
   "cell_type": "markdown",
   "metadata": {},
   "source": [
    "h5 file = https://osf.io/4uyeq/"
   ]
  },
  {
   "cell_type": "markdown",
   "metadata": {},
   "source": [
    "Medium article by authors: https://towardsdatascience.com/geovec-word-embeddings-for-geosciences-ac1e1e854e19"
   ]
  },
  {
   "cell_type": "code",
   "execution_count": null,
   "metadata": {
    "collapsed": true
   },
   "outputs": [],
   "source": []
  },
  {
   "cell_type": "code",
   "execution_count": 1,
   "metadata": {
    "collapsed": true
   },
   "outputs": [],
   "source": [
    "#conda install -c anaconda scikit-learn \n",
    "# !pip install h5py\n",
    "#!conda install -c anaconda h5py "
   ]
  },
  {
   "cell_type": "code",
   "execution_count": 2,
   "metadata": {
    "collapsed": true
   },
   "outputs": [],
   "source": [
    "import numpy as np\n",
    "from scipy import spatial\n",
    "import matplotlib.pyplot as plt\n",
    "#from sklearn.manifold import TSNE"
   ]
  },
  {
   "cell_type": "code",
   "execution_count": 3,
   "metadata": {
    "collapsed": true
   },
   "outputs": [],
   "source": [
    "import json\n",
    "import h5py\n",
    "import numpy as np"
   ]
  },
  {
   "cell_type": "markdown",
   "metadata": {},
   "source": [
    "##### glove python is a dependency mentioend by the authors\n",
    "##### DON'T DO THIS AS IT HAS AlL SORTS OF PROBLEMS ON MACOS AND WINDOWS"
   ]
  },
  {
   "cell_type": "markdown",
   "metadata": {},
   "source": [
    "#!pip install glove_python"
   ]
  },
  {
   "cell_type": "markdown",
   "metadata": {},
   "source": [
    "### Instead of using glove-python, we can just open the file this way"
   ]
  },
  {
   "cell_type": "code",
   "execution_count": 4,
   "metadata": {
    "collapsed": true
   },
   "outputs": [],
   "source": [
    "with h5py.File('geovec_300d_v1.h5', 'r') as f:\n",
    "        v = np.zeros(f['vectors'].shape, f['vectors'].dtype)\n",
    "        f['vectors'].read_direct(v)\n",
    "        dct = f['dct'][()].tostring().decode('utf-8')\n",
    "        dct = json.loads(dct)"
   ]
  },
  {
   "cell_type": "code",
   "execution_count": 5,
   "metadata": {},
   "outputs": [
    {
     "name": "stdout",
     "output_type": "stream",
     "text": [
      "number of words with vector embeddings 411845\n",
      "number of vectors in each embedding 300\n"
     ]
    }
   ],
   "source": [
    "#### number of words with vector embeddings\n",
    "print(\"number of words with vector embeddings\",len(v))\n",
    "#### Length of vectors\n",
    "print(\"number of vectors in each embedding\",len(v[1]))"
   ]
  },
  {
   "cell_type": "code",
   "execution_count": 6,
   "metadata": {},
   "outputs": [
    {
     "name": "stdout",
     "output_type": "stream",
     "text": [
      "number of words total 411845\n",
      "and what each word in dictionary looks like:  shinan : 224680\n"
     ]
    }
   ],
   "source": [
    "print(\"number of words total\",len(dct))\n",
    "print(\"and what each word in dictionary looks like: \",list(dct.keys())[0:1][0],\":\",dct[list(dct.keys())[0:1][0]])"
   ]
  },
  {
   "cell_type": "code",
   "execution_count": 7,
   "metadata": {},
   "outputs": [
    {
     "name": "stdout",
     "output_type": "stream",
     "text": [
      "embedding for acrodermatitis [-0.10594086 -0.05738851  0.03194365 -0.01788764  0.00262375  0.01449635\n",
      " -0.02291972  0.05872495  0.14296882 -0.02410946 -0.0664839   0.06400142\n",
      " -0.04727975  0.11105183 -0.00495148  0.02542379  0.04844313 -0.03132289\n",
      " -0.07447407 -0.04403799 -0.04219329  0.02730621  0.02795844  0.04235579\n",
      " -0.04048587 -0.11405727  0.02757259 -0.05587896 -0.0035318   0.02695823\n",
      " -0.04781603  0.08963217 -0.08274658  0.0417579  -0.01025344  0.09871103\n",
      "  0.02191398  0.04148114 -0.0323418   0.07600801  0.0348746  -0.06986226\n",
      " -0.05228152  0.08611795 -0.03221705  0.10128982 -0.04551369 -0.02769331\n",
      "  0.01034517 -0.0101576  -0.13007206 -0.01927234  0.11720682 -0.04032579\n",
      "  0.1619189   0.12280071 -0.03354213  0.02586541  0.02279903  0.00185333\n",
      "  0.04232504  0.06906866 -0.01626612 -0.02051888 -0.07304693  0.06525084\n",
      " -0.02131874  0.08204588  0.10155227 -0.02897052  0.09239195 -0.08750017\n",
      "  0.09984715  0.03835623  0.06661657  0.04644443  0.11996252 -0.08092465\n",
      " -0.09771429  0.13380921  0.01302412  0.00686067 -0.00779028  0.13095808\n",
      " -0.09225854  0.05109904 -0.12791747 -0.00653749 -0.0938134   0.00310001\n",
      " -0.06319162  0.00540164  0.02713154  0.11467609  0.00694362 -0.00811721\n",
      " -0.00498054  0.0087563  -0.07542555 -0.10013576 -0.1814298   0.10537198\n",
      "  0.01207351 -0.14387552 -0.01461447  0.09190836 -0.08827001  0.00618559\n",
      " -0.01643542 -0.05768126 -0.01993929  0.00352096 -0.11409742  0.10930204\n",
      "  0.01827852 -0.04796564  0.02932381 -0.06808724 -0.0638911  -0.10663176\n",
      " -0.06217268 -0.09753044  0.04275393 -0.04714532 -0.09276597 -0.02732667\n",
      " -0.01771538  0.03950009  0.04326828 -0.04321727 -0.07200824 -0.01378883\n",
      " -0.01496834  0.03894343 -0.00644904 -0.10958704  0.01672645 -0.0354738\n",
      "  0.14762586 -0.01870525  0.10986023 -0.06335755 -0.05141586  0.00572189\n",
      " -0.02006568 -0.00326511  0.00729972  0.03532841 -0.0183456  -0.10750091\n",
      " -0.1181314  -0.01583827 -0.02251871 -0.05928788 -0.02999285  0.08408048\n",
      " -0.02202259 -0.09619308 -0.03065447  0.00389438  0.04248663  0.06474836\n",
      " -0.12826875  0.03941846  0.04879361 -0.03649626 -0.0020058   0.01923068\n",
      "  0.00059688  0.00884923  0.02038524  0.01917672  0.02701663  0.07224341\n",
      " -0.05126395  0.01508107  0.11129127 -0.0090675   0.01661593 -0.07377604\n",
      " -0.06128157 -0.04778605  0.03245837 -0.00715296 -0.0197307   0.06911701\n",
      " -0.06517387  0.13876304 -0.00286321 -0.00182748 -0.03533004 -0.03704284\n",
      " -0.08476425  0.02961245 -0.025342    0.02103104 -0.05185351 -0.08648299\n",
      " -0.02815648  0.05385368  0.00664128 -0.07348187  0.01081769  0.04602323\n",
      " -0.03229564  0.05799744  0.01524317  0.0919171   0.0435308  -0.08272191\n",
      " -0.00837367  0.01400143 -0.03587031  0.07081421 -0.06625402 -0.0071055\n",
      "  0.02907175 -0.12184471  0.04998117 -0.08329378  0.08868964  0.05232874\n",
      "  0.048389    0.01404551  0.03206864 -0.04276694  0.06512509 -0.03040481\n",
      " -0.02061394 -0.02163421 -0.11763417  0.05440854 -0.07822812 -0.00048727\n",
      "  0.16567953  0.15954165 -0.081271    0.09093549  0.05709836 -0.06848131\n",
      " -0.02277993 -0.02328082 -0.11137061 -0.01622681 -0.05031345  0.03256286\n",
      " -0.06543457 -0.01822134  0.04811906  0.03584585  0.01480923  0.0511227\n",
      " -0.03962014  0.03359398  0.06484459 -0.00588331  0.06924645  0.04592283\n",
      "  0.09815808  0.10858581  0.06712344 -0.05573273 -0.08786116  0.04249856\n",
      " -0.02028606  0.06258766 -0.02006635  0.05189944  0.01495761  0.0555407\n",
      " -0.09638064  0.01644566 -0.20651375 -0.01931506 -0.01309523 -0.06007032\n",
      "  0.00691255 -0.05260204 -0.0034351  -0.03017093 -0.10742683 -0.13947105\n",
      " -0.05979531 -0.05540673 -0.09965578  0.08703848 -0.00022146 -0.04280839\n",
      "  0.03031833  0.01113071 -0.09225553 -0.05738417  0.01839088  0.03571953\n",
      "  0.03591923  0.03895251 -0.01117945 -0.0674778  -0.0818163   0.03489417]\n"
     ]
    }
   ],
   "source": [
    "print(\"embedding for acrodermatitis\",v[dct[list(dct.keys())[0:1][0]]])"
   ]
  },
  {
   "cell_type": "code",
   "execution_count": 8,
   "metadata": {},
   "outputs": [
    {
     "data": {
      "text/plain": [
       "['shinan',\n",
       " 'isocyanic',\n",
       " 'pnc',\n",
       " 'sichuan',\n",
       " 'curium',\n",
       " 'iddings',\n",
       " 'antidiarrheal',\n",
       " 'hilomonadea',\n",
       " 'gier',\n",
       " 'gyda']"
      ]
     },
     "execution_count": 8,
     "metadata": {},
     "output_type": "execute_result"
    }
   ],
   "source": [
    "list(dct.keys())[0:10]"
   ]
  },
  {
   "cell_type": "code",
   "execution_count": 9,
   "metadata": {},
   "outputs": [
    {
     "data": {
      "text/plain": [
       "numpy.ndarray"
      ]
     },
     "execution_count": 9,
     "metadata": {},
     "output_type": "execute_result"
    }
   ],
   "source": [
    "type(v)"
   ]
  },
  {
   "cell_type": "code",
   "execution_count": 10,
   "metadata": {
    "collapsed": true
   },
   "outputs": [],
   "source": [
    "#v"
   ]
  },
  {
   "cell_type": "markdown",
   "metadata": {},
   "source": [
    "### We'll combine the two files into a single dictionary to make some later things a bit easier. It isn't saved in thi format to save space according to the authors who trained it"
   ]
  },
  {
   "cell_type": "code",
   "execution_count": 11,
   "metadata": {
    "collapsed": true
   },
   "outputs": [],
   "source": [
    "def replaceIntsWithWords(vectors,dictionary):\n",
    "    words = list(dct.keys())\n",
    "    embeddings_dict = {}\n",
    "    for word in words:\n",
    "        embeddings_dict[word] = np.asarray(v[dictionary[word]][:],\"float32\")\n",
    "    return embeddings_dict"
   ]
  },
  {
   "cell_type": "code",
   "execution_count": 12,
   "metadata": {
    "collapsed": true
   },
   "outputs": [],
   "source": [
    "new_vector_embedding = replaceIntsWithWords(v,dct)"
   ]
  },
  {
   "cell_type": "code",
   "execution_count": 13,
   "metadata": {},
   "outputs": [
    {
     "data": {
      "text/plain": [
       "array([ 0.03063519, -0.41190132, -0.01748249, -0.03562951, -0.44922313,\n",
       "       -0.23300318,  0.22224723, -0.07885347,  0.02758265, -0.07660752,\n",
       "       -0.39882764,  0.19357805, -0.03862172, -0.16392523, -0.08809105,\n",
       "       -0.15323128, -0.17489772,  0.14711891,  0.10426124, -0.02329986,\n",
       "        0.09977868,  0.23435533,  0.3037015 , -0.6652086 , -0.1779219 ,\n",
       "        0.16997509, -0.0749488 , -0.4623773 , -0.18799299, -0.04015233,\n",
       "       -0.1230348 , -0.324141  ,  0.32538635,  0.27751258, -0.04844321,\n",
       "        0.04106978,  0.3250498 ,  0.4131149 ,  0.41197386,  0.05734786,\n",
       "       -0.28493047,  0.05330373, -0.30320197, -0.6228066 ,  0.17232999,\n",
       "        0.13726279,  0.02862607,  0.00987866, -0.22104132, -0.27486506,\n",
       "        0.3875012 ,  0.05712619,  0.30534878, -0.17705044, -0.19142899,\n",
       "       -0.1692242 , -0.3759296 ,  0.35963646, -0.02505949,  0.05952422,\n",
       "        0.33059987,  0.18033917,  0.05865888,  0.1908917 ,  0.03191795,\n",
       "       -0.3452011 , -0.4242747 ,  0.02242155, -0.08702113, -0.36016336,\n",
       "       -0.09096049, -0.15263985, -0.10395551,  0.3015002 , -0.19887997,\n",
       "        0.17470044,  0.4872355 ,  0.17027885,  0.1629167 ,  0.2500491 ,\n",
       "        0.0590988 , -0.30714718,  0.33032542, -0.54410225,  0.2931073 ,\n",
       "       -0.0657116 , -0.0493247 , -0.04416075,  0.23244466, -0.4811705 ,\n",
       "       -0.11674033,  0.5065609 , -0.23595892, -0.40718448,  0.03079501,\n",
       "       -0.02404374, -0.05897579, -0.40997535, -0.29971278, -0.06485663,\n",
       "       -0.0735241 , -0.57915825,  0.04794372,  0.15152007, -0.38089737,\n",
       "        0.04072325, -0.0973587 , -0.281366  , -0.0866443 ,  0.07327744,\n",
       "       -0.1289843 , -0.03622092, -0.16641869, -0.02401751,  0.01719305,\n",
       "       -0.18703395,  0.36526188,  0.3011297 ,  0.10935438,  0.2580626 ,\n",
       "        0.34569156, -0.14707701,  0.26744878, -0.23805387, -0.06046972,\n",
       "        0.43298253, -0.38266245, -0.2280435 , -0.09001176,  0.22924648,\n",
       "        0.01707637, -0.21080957, -0.2534994 , -0.20905982, -0.31777838,\n",
       "        0.02439837,  0.18417667,  0.14000054, -0.15615216, -0.2249662 ,\n",
       "       -0.02894812, -0.33743653, -0.41191328, -0.05852659, -0.33302596,\n",
       "        0.04976951,  0.5980457 , -0.04356075, -0.18495524,  0.20690395,\n",
       "        0.05941332, -0.32292056,  0.17914008, -0.500527  , -0.26573032,\n",
       "       -0.08153787,  0.12664302, -0.33359897,  0.25827253,  0.1932546 ,\n",
       "        0.24806926, -0.10873552, -0.4112353 , -0.48139846, -0.24745034,\n",
       "        0.4930274 ,  0.20221478,  0.1466965 ,  0.27478045,  0.08422571,\n",
       "        0.0078306 ,  0.00467938,  0.12200137,  0.38119838,  0.63320845,\n",
       "       -0.23246406,  0.13708606, -0.07137589, -0.06196122, -0.3991872 ,\n",
       "       -0.16195753,  0.39561355,  0.1375364 , -0.34327468,  0.160251  ,\n",
       "        0.2830336 , -0.0162445 ,  0.4052586 , -0.11772639,  0.08404472,\n",
       "       -0.07816593, -0.04536095, -0.15027593, -0.07181185, -0.40633082,\n",
       "       -0.13952276,  0.1901891 ,  0.46117383, -0.04458065, -0.4252203 ,\n",
       "       -0.36120528,  0.30159628,  0.39013577,  0.0528173 , -0.12946293,\n",
       "        0.3917904 , -0.16849914, -0.24559385, -0.20524621, -0.00520904,\n",
       "        0.02467151,  0.3680092 , -0.13684408, -0.03159561, -0.17883603,\n",
       "       -0.21492326,  0.53078973,  0.33911052,  0.09338158, -0.23546411,\n",
       "       -0.09534077,  0.2798333 ,  0.11799586, -0.351914  , -0.06308249,\n",
       "        0.11057905, -0.12907316,  0.07775687,  0.03375599,  0.22878551,\n",
       "       -0.19734228, -0.15298705,  0.03418294, -0.1719191 ,  0.23001723,\n",
       "       -0.23243229,  0.16741559,  0.05114592, -0.06052561, -0.46340165,\n",
       "       -0.46262592, -0.6035481 ,  0.16142583, -0.48702064, -0.19704111,\n",
       "       -0.46407148, -0.05907227, -0.17363416, -0.04588016,  0.08782403,\n",
       "        0.45838422, -0.01058303, -0.36841273,  0.03393587, -0.00892907,\n",
       "        0.01773651, -0.02713825, -0.18003365, -0.23333898, -0.23033081,\n",
       "        0.22356518, -0.19672231,  0.07019778,  0.34114864,  0.21038549,\n",
       "       -0.01267198, -0.0917694 , -0.5532432 , -0.21704294, -0.51371676,\n",
       "        0.04314219,  0.05385855, -0.20565934, -0.12910867, -0.38981983,\n",
       "       -0.22497126,  0.25124222,  0.10278568, -0.34534988, -0.13590793,\n",
       "        0.43126598,  0.22235622, -0.29292405, -0.01442697,  0.19515485,\n",
       "        0.08376491, -0.4344467 , -0.12742433, -0.17324965, -0.12557042,\n",
       "        0.13236505,  0.29445967,  0.02982007, -0.22455895,  0.16065286,\n",
       "       -0.20524757,  0.08688244,  0.22455838,  0.11694988, -0.00187241],\n",
       "      dtype=float32)"
      ]
     },
     "execution_count": 13,
     "metadata": {},
     "output_type": "execute_result"
    }
   ],
   "source": [
    "new_vector_embedding[\"sandstone\"]"
   ]
  },
  {
   "cell_type": "markdown",
   "metadata": {},
   "source": [
    "### Now let's play around a bit to find out what words are close to others in the embedding space"
   ]
  },
  {
   "cell_type": "code",
   "execution_count": 14,
   "metadata": {
    "collapsed": true
   },
   "outputs": [],
   "source": [
    "def find_closest_embeddings(embeddings_dict,embedding_vector):\n",
    "    return sorted(embeddings_dict.keys(), key=lambda word: spatial.distance.euclidean(embeddings_dict[word], embedding_vector))"
   ]
  },
  {
   "cell_type": "code",
   "execution_count": 15,
   "metadata": {},
   "outputs": [
    {
     "data": {
      "text/plain": [
       "411845"
      ]
     },
     "execution_count": 15,
     "metadata": {},
     "output_type": "execute_result"
    }
   ],
   "source": [
    "len(new_vector_embedding.keys())"
   ]
  },
  {
   "cell_type": "code",
   "execution_count": 16,
   "metadata": {},
   "outputs": [
    {
     "data": {
      "text/plain": [
       "4.911217212677002"
      ]
     },
     "execution_count": 16,
     "metadata": {},
     "output_type": "execute_result"
    }
   ],
   "source": [
    "spatial.distance.euclidean(new_vector_embedding['sandstone'], new_vector_embedding['granite'])"
   ]
  },
  {
   "cell_type": "code",
   "execution_count": 17,
   "metadata": {},
   "outputs": [
    {
     "data": {
      "text/plain": [
       "['sandstone',\n",
       " 'siltstone',\n",
       " 'mudstone',\n",
       " 'arkosic',\n",
       " 'conglomerate',\n",
       " 'rothbach',\n",
       " 'gröden',\n",
       " 'sonta',\n",
       " 'mudstones',\n",
       " 'interbedded']"
      ]
     },
     "execution_count": 17,
     "metadata": {},
     "output_type": "execute_result"
    }
   ],
   "source": [
    "find_closest_embeddings(new_vector_embedding,new_vector_embedding[\"sandstone\"])[0:10]"
   ]
  },
  {
   "cell_type": "code",
   "execution_count": 18,
   "metadata": {},
   "outputs": [
    {
     "data": {
      "text/plain": [
       "['granite',\n",
       " 'granitic',\n",
       " 'ebat',\n",
       " 'tuaní',\n",
       " 'kibe',\n",
       " 'lavadores',\n",
       " 'baerzhe',\n",
       " 'daguzhai',\n",
       " 'cooyerdoo',\n",
       " 'qôrqut']"
      ]
     },
     "execution_count": 18,
     "metadata": {},
     "output_type": "execute_result"
    }
   ],
   "source": [
    "find_closest_embeddings(new_vector_embedding,new_vector_embedding[\"granite\"])[0:10]"
   ]
  },
  {
   "cell_type": "code",
   "execution_count": 19,
   "metadata": {},
   "outputs": [
    {
     "data": {
      "text/plain": [
       "['crossbedding',\n",
       " 'lumi',\n",
       " 'unrein',\n",
       " 'superface',\n",
       " 'boundinaged',\n",
       " 'staretsky',\n",
       " 'essikado',\n",
       " 'gerlarch',\n",
       " 'doucette',\n",
       " 'szenleng',\n",
       " 'rhune',\n",
       " 'shihui',\n",
       " 'gackowa',\n",
       " 'lenticularity',\n",
       " 'tenappera',\n",
       " 'karlshafen',\n",
       " 'håkjerringdjupet',\n",
       " 'anorbital',\n",
       " 'eludicate',\n",
       " 'torom']"
      ]
     },
     "execution_count": 19,
     "metadata": {},
     "output_type": "execute_result"
    }
   ],
   "source": [
    "find_closest_embeddings(new_vector_embedding,new_vector_embedding[\"crossbedding\"])[0:20]"
   ]
  },
  {
   "cell_type": "markdown",
   "metadata": {},
   "source": [
    "### Looks like this is a lot of non-English words?!!"
   ]
  },
  {
   "cell_type": "markdown",
   "metadata": {},
   "source": [
    "### Let's try subtraction of pure vectors"
   ]
  },
  {
   "cell_type": "code",
   "execution_count": 20,
   "metadata": {},
   "outputs": [
    {
     "name": "stdout",
     "output_type": "stream",
     "text": [
      "['sagyeri', 'pregrowth', 'barzaloza', 'translatent', 'syntransform', 'dothan', 'superincumbent', 'corniola', 'adoudou', 'chingmei', 'březno', 'saberian', 'kulm', 'trentinara', 'flamy', 'chulca', 'setlaole', 'emborozu', 'ikpe', 'guxu', 'aib', 'sarsbukta', 'huilu', 'nunda', 'lecho']\n"
     ]
    }
   ],
   "source": [
    "print(find_closest_embeddings(new_vector_embedding,\n",
    "    new_vector_embedding[\"stratum\"] - new_vector_embedding[\"fault\"]\n",
    ")[:25])"
   ]
  },
  {
   "cell_type": "code",
   "execution_count": 21,
   "metadata": {},
   "outputs": [
    {
     "name": "stdout",
     "output_type": "stream",
     "text": [
      "['marble', 'sedef', 'pentelic', 'supren', 'macael', 'yeosan', 'calanchiole', 'pentelikon', 'kemalpasa', 'dionysos', 'borba', 'alabashka', 'iscehisar', 'maniçoba', 'hekkelstrand', 'benou', 'calcsilicates', 'evenes', 'harsin', 'montepuez', 'ayhan', 'nanshu', 'sanchuan', 'belevi', 'bettadabidu']\n"
     ]
    }
   ],
   "source": [
    "print(find_closest_embeddings(new_vector_embedding,\n",
    "    new_vector_embedding[\"marble\"] - new_vector_embedding[\"heat\"]\n",
    ")[:25])"
   ]
  },
  {
   "cell_type": "code",
   "execution_count": 22,
   "metadata": {},
   "outputs": [
    {
     "name": "stdout",
     "output_type": "stream",
     "text": [
      "['intratill', 'satitoa', 'boulder', 'montoz', 'laxe', 'kintradwell', 'unclimbed', 'settai', 'norber', 'alveolized', 'intertill', 'cipit', 'preexposure', 'kudaka', 'moutonnee', 'ventifacted', 'navabandar', 'sturgis', 'taufererberg', 'pineo', 'preexposed', 'mathu', 'runswick', 'spelonk', 'encierro']\n"
     ]
    }
   ],
   "source": [
    "print(find_closest_embeddings(new_vector_embedding,\n",
    "    new_vector_embedding[\"boulder\"] - new_vector_embedding[\"clay\"]\n",
    ")[:25])"
   ]
  },
  {
   "cell_type": "markdown",
   "metadata": {},
   "source": [
    "### A blunt approach doesn't work so well"
   ]
  },
  {
   "cell_type": "markdown",
   "metadata": {},
   "source": [
    "## Let's try to use tensorflow's embedding projector"
   ]
  },
  {
   "cell_type": "code",
   "execution_count": 23,
   "metadata": {},
   "outputs": [
    {
     "name": "stdout",
     "output_type": "stream",
     "text": [
      "Requirement already satisfied: torch in /Users/justingosses/anaconda/envs/geovec/lib/python3.6/site-packages (1.5.1)\r\n",
      "Requirement already satisfied: future in /Users/justingosses/anaconda/envs/geovec/lib/python3.6/site-packages (from torch) (0.18.2)\r\n",
      "Requirement already satisfied: numpy in /Users/justingosses/anaconda/envs/geovec/lib/python3.6/site-packages (from torch) (1.18.5)\r\n"
     ]
    }
   ],
   "source": [
    "!pip install torch"
   ]
  },
  {
   "cell_type": "code",
   "execution_count": 24,
   "metadata": {},
   "outputs": [
    {
     "name": "stdout",
     "output_type": "stream",
     "text": [
      "Requirement already satisfied: fasttext in /Users/justingosses/anaconda/envs/geovec/lib/python3.6/site-packages (0.9.2)\n",
      "Requirement already satisfied: numpy in /Users/justingosses/anaconda/envs/geovec/lib/python3.6/site-packages (from fasttext) (1.18.5)\n",
      "Requirement already satisfied: setuptools>=0.7.0 in /Users/justingosses/anaconda/envs/geovec/lib/python3.6/site-packages (from fasttext) (49.2.0.post20200714)\n",
      "Requirement already satisfied: pybind11>=2.2 in /Users/justingosses/anaconda/envs/geovec/lib/python3.6/site-packages (from fasttext) (2.5.0)\n"
     ]
    }
   ],
   "source": [
    "!pip install fasttext"
   ]
  },
  {
   "cell_type": "markdown",
   "metadata": {},
   "source": [
    "https://stackoverflow.com/questions/41258391/tensorboard-embedding-example/41262360#41262360"
   ]
  },
  {
   "cell_type": "code",
   "execution_count": 25,
   "metadata": {
    "collapsed": true,
    "scrolled": true
   },
   "outputs": [],
   "source": [
    "import os\n",
    "import tensorflow as tf\n",
    "import numpy as np\n",
    "#import fasttext\n",
    "from tensorflow.contrib.tensorboard.plugins import projector\n",
    "\n"
   ]
  },
  {
   "cell_type": "code",
   "execution_count": 26,
   "metadata": {},
   "outputs": [
    {
     "data": {
      "text/plain": [
       "<module 'tensorflow' from '/Users/justingosses/anaconda/lib/python3.5/site-packages/tensorflow/__init__.py'>"
      ]
     },
     "execution_count": 26,
     "metadata": {},
     "output_type": "execute_result"
    }
   ],
   "source": [
    "tf"
   ]
  },
  {
   "cell_type": "code",
   "execution_count": 27,
   "metadata": {
    "collapsed": true
   },
   "outputs": [],
   "source": [
    "\n",
    "# # load model\n",
    "# word2vec = fasttext.load_model('wiki.en.bin')\n",
    "# # load model\n",
    "# #word2vec = fasttext.load_model('wiki.en.bin')"
   ]
  },
  {
   "cell_type": "code",
   "execution_count": 28,
   "metadata": {},
   "outputs": [
    {
     "data": {
      "text/plain": [
       "300"
      ]
     },
     "execution_count": 28,
     "metadata": {},
     "output_type": "execute_result"
    }
   ],
   "source": [
    "len(v[0])"
   ]
  },
  {
   "cell_type": "code",
   "execution_count": 29,
   "metadata": {},
   "outputs": [
    {
     "data": {
      "text/plain": [
       "411845"
      ]
     },
     "execution_count": 29,
     "metadata": {},
     "output_type": "execute_result"
    }
   ],
   "source": [
    "len(dct)"
   ]
  },
  {
   "cell_type": "code",
   "execution_count": 30,
   "metadata": {},
   "outputs": [
    {
     "data": {
      "text/plain": [
       "['shinan',\n",
       " 'isocyanic',\n",
       " 'pnc',\n",
       " 'sichuan',\n",
       " 'curium',\n",
       " 'iddings',\n",
       " 'antidiarrheal',\n",
       " 'hilomonadea',\n",
       " 'gier',\n",
       " 'gyda',\n",
       " 'naranjos',\n",
       " 'guangjin',\n",
       " 'chommal',\n",
       " 'pseudogene',\n",
       " 'haningtoni',\n",
       " 'ospo',\n",
       " 'chainpur',\n",
       " 'enacts',\n",
       " 'unparalled',\n",
       " 'termohaline',\n",
       " 'orthopteroids',\n",
       " 'dave',\n",
       " 'ferrigehlenite',\n",
       " 'certified',\n",
       " 'laminata',\n",
       " 'skeletal',\n",
       " 'arikawa',\n",
       " 'beachgrass',\n",
       " 'depicting',\n",
       " 'kuechulin',\n",
       " 'lowenstami',\n",
       " 'nguène',\n",
       " 'schistic',\n",
       " 'arsenicoselenatis',\n",
       " 'biologica',\n",
       " 'melbtal',\n",
       " 'chake',\n",
       " 'manceau',\n",
       " 'condolios',\n",
       " 'lappel',\n",
       " 'nonmineralized',\n",
       " 'smacs',\n",
       " 'lagrangians',\n",
       " 'symmetrodonts',\n",
       " 'tizgui',\n",
       " 'inclusiveness',\n",
       " 'perspectivalism',\n",
       " 'decorticate',\n",
       " 'mathews',\n",
       " 'hantam',\n",
       " 'conidiogenous',\n",
       " 'ranipes',\n",
       " 'lièvres',\n",
       " 'labouchere',\n",
       " 'wulan',\n",
       " 'immunoperoxidase',\n",
       " 'laplace',\n",
       " 'mayne',\n",
       " 'zzz',\n",
       " 'seismostruct',\n",
       " 'impairment',\n",
       " 'tubercules',\n",
       " 'pectens',\n",
       " 'neublans',\n",
       " 'syringae',\n",
       " 'kwanak',\n",
       " 'mfth',\n",
       " 'canoochee',\n",
       " 'methanoregula',\n",
       " 'eighe',\n",
       " 'contaminée',\n",
       " 'précurseurs',\n",
       " 'prieto',\n",
       " 'protégée',\n",
       " 'eye',\n",
       " 'onoideus',\n",
       " 'saccorotti',\n",
       " 'silt',\n",
       " 'sebtide',\n",
       " 'castagniccia',\n",
       " 'negelle',\n",
       " 'quoy',\n",
       " 'rudrón',\n",
       " 'arcanobacterium',\n",
       " 'ptbst',\n",
       " 'organobromines',\n",
       " 'dhla',\n",
       " 'monterone',\n",
       " 'deposed',\n",
       " 'wwnrs',\n",
       " 'rbc',\n",
       " 'pionerskaya',\n",
       " 'beggiatoa',\n",
       " 'helongshan',\n",
       " 'lihd',\n",
       " 'keezhakarai',\n",
       " 'xinshi',\n",
       " 'eukashmirites',\n",
       " 'anodyne',\n",
       " 'mungbean',\n",
       " 'preloaded',\n",
       " 'hydrometrines',\n",
       " 'fuv',\n",
       " 'bertucat',\n",
       " 'inntal',\n",
       " 'regained',\n",
       " 'kna',\n",
       " 'unmature',\n",
       " 'gaotai',\n",
       " 'muddies',\n",
       " 'wallapai',\n",
       " 'amanuensis',\n",
       " 'référencée',\n",
       " 'inmachuk',\n",
       " 'sénarmontite',\n",
       " 'reburn',\n",
       " 'incarcerated',\n",
       " 'siderolitids',\n",
       " 'sinocalopteryx',\n",
       " 'gelocus',\n",
       " 'markermeer',\n",
       " 'miningcap',\n",
       " 'assessment',\n",
       " 'tsom',\n",
       " 'orp',\n",
       " 'phlogoiderhynchus',\n",
       " 'lsm',\n",
       " 'szczawno',\n",
       " 'pnt',\n",
       " 'dunitic',\n",
       " 'downwash',\n",
       " 'tablecurve',\n",
       " 'lenathodus',\n",
       " 'savic',\n",
       " 'stap',\n",
       " 'thermicity',\n",
       " 'pyrolytic',\n",
       " 'kapcharar',\n",
       " 'flexuose',\n",
       " 'selimat',\n",
       " 'stratmodel',\n",
       " 'ches',\n",
       " 'nochino',\n",
       " 'microarray',\n",
       " 'bostrycapulus',\n",
       " 'poro',\n",
       " 'gellenoncourt',\n",
       " 'laternula',\n",
       " 'hemicidaris',\n",
       " 'thermodiluter',\n",
       " 'theodicy',\n",
       " 'nai',\n",
       " 'pyterlites',\n",
       " 'choke',\n",
       " 'paralichthys',\n",
       " 'opted',\n",
       " 'elingamite',\n",
       " 'wehs',\n",
       " 'kostrzyna',\n",
       " 'impermeabilisation',\n",
       " 'nazarovella',\n",
       " 'gaoxie',\n",
       " 'aciduliprofundum',\n",
       " 'bonnsulfvi',\n",
       " 'solonization',\n",
       " 'pyrophylite',\n",
       " 'banfield',\n",
       " 'iroumé',\n",
       " 'bdts',\n",
       " 'axle',\n",
       " 'herding',\n",
       " 'caution',\n",
       " 'shentou',\n",
       " 'pluridisciplinarité',\n",
       " 'jensen',\n",
       " 'flor',\n",
       " 'haubi',\n",
       " 'welleri',\n",
       " 'toharu',\n",
       " 'cofust',\n",
       " 'tolvericeras',\n",
       " 'wierzchowisko',\n",
       " 'rhabdocidaris',\n",
       " 'volcanologically',\n",
       " 'emiquon',\n",
       " 'euphausiids',\n",
       " 'proter',\n",
       " 'redeemable',\n",
       " 'montanalestes',\n",
       " 'rhinotermitidae',\n",
       " 'shangwan',\n",
       " 'ngsts',\n",
       " 'tanyurer',\n",
       " 'alphen',\n",
       " 'koluel',\n",
       " 'bivalved',\n",
       " 'yetter',\n",
       " 'transections',\n",
       " 'hect',\n",
       " 'dongkengtuo',\n",
       " 'unavailable',\n",
       " 'molerat',\n",
       " 'pygidiales',\n",
       " 'blumenstock',\n",
       " 'ogvps',\n",
       " 'daveau',\n",
       " 'jejunata',\n",
       " 'scud',\n",
       " 'boophilus',\n",
       " 'multilobe',\n",
       " 'micromechanism',\n",
       " 'chiropterophilous',\n",
       " 'unrealistically',\n",
       " 'eupatorieae',\n",
       " 'namadica',\n",
       " 'kankary',\n",
       " 'capnuchosphaera',\n",
       " 'gamut',\n",
       " 'lassolas',\n",
       " 'scipione',\n",
       " 'sebastiano',\n",
       " 'yimeng',\n",
       " 'costabel',\n",
       " 'relictum',\n",
       " 'ossrfs',\n",
       " 'plexippus',\n",
       " 'pseudocomponent',\n",
       " 'ccmc',\n",
       " 'precariously',\n",
       " 'carnallitite',\n",
       " 'takenaka',\n",
       " 'nxp',\n",
       " 'huaitoutala',\n",
       " 'atteindrait',\n",
       " 'metz',\n",
       " 'mory',\n",
       " 'tarchonanthus',\n",
       " 'lichrolut',\n",
       " 'pardee',\n",
       " 'reichwalde',\n",
       " 'brigadier',\n",
       " 'centerpiece',\n",
       " 'mpnc',\n",
       " 'gnawed',\n",
       " 'lophodont',\n",
       " 'costantino',\n",
       " 'prevotellaceae',\n",
       " 'rétrécie',\n",
       " 'ngalue',\n",
       " 'fenice',\n",
       " 'hemicryptophytes',\n",
       " 'postsettlement',\n",
       " 'fedorov',\n",
       " 'trangression',\n",
       " 'complaining',\n",
       " 'montignac',\n",
       " 'yekaterinburg',\n",
       " 'communiquées',\n",
       " 'lithofacies',\n",
       " 'cypridids',\n",
       " 'headcut',\n",
       " 'chytridium',\n",
       " 'azoricum',\n",
       " 'ozhogina',\n",
       " 'lithiumtetraborate',\n",
       " 'unleashes',\n",
       " 'noncollapsible',\n",
       " 'irregularis',\n",
       " 'plicatulidae',\n",
       " 'stepdown',\n",
       " 'freewater',\n",
       " 'polypedogenetic',\n",
       " 'parastratotype',\n",
       " 'calcisiltitic',\n",
       " 'silviculturally',\n",
       " 'decodes',\n",
       " 'rétention',\n",
       " 'collusive',\n",
       " 'rodriguezi',\n",
       " 'pedicellaria',\n",
       " 'parafavreina',\n",
       " 'évènements',\n",
       " 'poura',\n",
       " 'alphacx',\n",
       " 'mantoloking',\n",
       " 'głuchowiec',\n",
       " 'redish',\n",
       " 'richness',\n",
       " 'pestfade',\n",
       " 'diabasodden',\n",
       " 'goodland',\n",
       " 'melanosyenites',\n",
       " 'implantable',\n",
       " 'hedc',\n",
       " 'punctic',\n",
       " 'heterotropic',\n",
       " 'oiip',\n",
       " 'tschernyschewi',\n",
       " 'eflow',\n",
       " 'snaf',\n",
       " 'mésorif',\n",
       " 'rewatered',\n",
       " 'slump',\n",
       " 'migmatised',\n",
       " 'hypersthène',\n",
       " 'icsi',\n",
       " 'refugial',\n",
       " 'peano',\n",
       " 'ragno',\n",
       " 'nob',\n",
       " 'trinité',\n",
       " 'astove',\n",
       " 'truax',\n",
       " 'loubieng',\n",
       " 'bigherini',\n",
       " 'fukazawa',\n",
       " 'prinsepia',\n",
       " 'guissani',\n",
       " 'brunneum',\n",
       " 'adorption',\n",
       " 'zyx',\n",
       " 'tambling',\n",
       " 'dyrfjöll',\n",
       " 'achievability',\n",
       " 'distracters',\n",
       " 'resultant',\n",
       " 'vejle',\n",
       " 'yftb',\n",
       " 'nesterenko',\n",
       " 'isalo',\n",
       " 'tuberized',\n",
       " 'słowakiewicz',\n",
       " 'βbc',\n",
       " 'bonvicini',\n",
       " 'ramanujam',\n",
       " 'kurata',\n",
       " 'traditionalistic',\n",
       " 'brome',\n",
       " 'coveney',\n",
       " 'wilis',\n",
       " 'asin',\n",
       " 'bayne',\n",
       " 'gemmological',\n",
       " 'gaizu',\n",
       " 'newportensis',\n",
       " 'sociability',\n",
       " 'stifling',\n",
       " 'amatitán',\n",
       " 'gianluca',\n",
       " 'fushun',\n",
       " 'tetradecahedron',\n",
       " 'ganji',\n",
       " 'lechiguanas',\n",
       " 'esn',\n",
       " 'slchspec',\n",
       " 'maranta',\n",
       " 'noncompatible',\n",
       " 'shahabpour',\n",
       " 'saharan',\n",
       " 'shrinking',\n",
       " 'construites',\n",
       " 'sheboygan',\n",
       " 'taeanense',\n",
       " 'kaynarca',\n",
       " 'xlendi',\n",
       " 'chlorococcaleans',\n",
       " 'offseting',\n",
       " 'simplicis',\n",
       " 'mahalanobisi',\n",
       " 'lippert',\n",
       " 'slsbr',\n",
       " 'neuroblast',\n",
       " 'autoimmune',\n",
       " 'nédélec',\n",
       " 'radiohalos',\n",
       " 'maruja',\n",
       " 'prabhu',\n",
       " 'kerinitis',\n",
       " 'tcrna',\n",
       " 'subcordate',\n",
       " 'seghetta',\n",
       " 'centricity',\n",
       " 'lachea',\n",
       " 'flexilabris',\n",
       " 'gsfs',\n",
       " 'orthostoma',\n",
       " 'serangan',\n",
       " 'bkgd',\n",
       " 'guzel',\n",
       " 'prošek',\n",
       " 'isoplets',\n",
       " 'stillwaters',\n",
       " 'fioriana',\n",
       " 'lesbian',\n",
       " 'boden',\n",
       " 'nanoproduct',\n",
       " 'pepcase',\n",
       " 'xinde',\n",
       " 'vanlauwe',\n",
       " 'nadachowski',\n",
       " 'antipatharia',\n",
       " 'antiphospholipid',\n",
       " 'winged',\n",
       " 'pyoverdines',\n",
       " 'calapooia',\n",
       " 'bathroom',\n",
       " 'baoligaomiao',\n",
       " 'mirabilus',\n",
       " 'cayol',\n",
       " 'egme',\n",
       " 'cbc',\n",
       " 'piramagroon',\n",
       " 'czerwionka',\n",
       " 'cloudlets',\n",
       " 'masdar',\n",
       " 'projectate',\n",
       " 'uropodidae',\n",
       " 'tedrow',\n",
       " 'arrhoges',\n",
       " 'gulungul',\n",
       " 'seigneur',\n",
       " 'friabilis',\n",
       " 'hyotissa',\n",
       " 'cyathostome',\n",
       " 'kohli',\n",
       " 'crystalloplastic',\n",
       " 'wurinitu',\n",
       " 'avdeev',\n",
       " 'bismuthinite',\n",
       " 'extrapolates',\n",
       " 'hiraoka',\n",
       " 'dolomicrosparite',\n",
       " 'ettachfini',\n",
       " 'fioletovo',\n",
       " 'phps',\n",
       " 'unplunging',\n",
       " 'tosna',\n",
       " 'icpmsdatacal',\n",
       " 'organoclays',\n",
       " 'cade',\n",
       " 'fimbristylis',\n",
       " 'mileševa',\n",
       " 'savartii',\n",
       " 'cotectics',\n",
       " 'dmpsa',\n",
       " 'rtfo',\n",
       " 'etcum',\n",
       " 'macaroni',\n",
       " 'ipsepro',\n",
       " 'narval',\n",
       " 'erythematosus',\n",
       " 'bestimmte',\n",
       " 'guanxian',\n",
       " 'faraud',\n",
       " 'identical',\n",
       " 'undisinfected',\n",
       " 'ispra',\n",
       " 'runde',\n",
       " 'basista',\n",
       " 'numberof',\n",
       " 'ofelia',\n",
       " 'uncinunellina',\n",
       " 'ostrava',\n",
       " 'laminaire',\n",
       " 'lathyroides',\n",
       " 'chemolithoautotrophs',\n",
       " 'newspaper',\n",
       " 'nncc',\n",
       " 'rafaelito',\n",
       " 'unclogging',\n",
       " 'calcareuses',\n",
       " 'chimayó',\n",
       " 'gondolellidae',\n",
       " 'inclement',\n",
       " 'gajereh',\n",
       " 'kemikalan',\n",
       " 'proofread',\n",
       " 'weertman',\n",
       " 'pratical',\n",
       " 'preserver',\n",
       " 'epa',\n",
       " 'spoligotype',\n",
       " 'quest',\n",
       " 'incarnation',\n",
       " 'vsfs',\n",
       " 'péridotites',\n",
       " 'albeluvisols',\n",
       " 'usosaldaña',\n",
       " 'nanobots',\n",
       " 'descornet',\n",
       " 'carbonarius',\n",
       " 'alajärvi',\n",
       " 'thiodictyon',\n",
       " 'unquantifiable',\n",
       " 'neaa',\n",
       " 'tetraporobrachia',\n",
       " 'ramblar',\n",
       " 'meddy',\n",
       " 'pseudocyclosorus',\n",
       " 'midday',\n",
       " 'polysaline',\n",
       " 'aogcms',\n",
       " 'rekindle',\n",
       " 'microcanonical',\n",
       " 'methylarsines',\n",
       " 'obrutschewi',\n",
       " 'gromovi',\n",
       " 'veshchevo',\n",
       " 'insititia',\n",
       " 'dalu',\n",
       " 'ellmann',\n",
       " 'datacubes',\n",
       " 'dijck',\n",
       " 'laldhang',\n",
       " 'dispersées',\n",
       " 'chahgaz',\n",
       " 'tariffication',\n",
       " 'equilibrial',\n",
       " 'tuckerellidae',\n",
       " 'forepaw',\n",
       " 'guaratã',\n",
       " 'mmfms',\n",
       " 'hups',\n",
       " 'enhong',\n",
       " 'recyclers',\n",
       " 'verrucomicrobiales',\n",
       " 'kluiving',\n",
       " 'postmeiotic',\n",
       " 'everytime',\n",
       " 'descibes',\n",
       " 'gasque',\n",
       " 'oligomeric',\n",
       " 'preles',\n",
       " 'inferiorly',\n",
       " 'narrated',\n",
       " 'suborthogonal',\n",
       " 'existent',\n",
       " 'shumei',\n",
       " 'bisheterocycle',\n",
       " 'methane',\n",
       " 'anchicaya',\n",
       " 'lcd',\n",
       " 'compactituberculate',\n",
       " 'symboliques',\n",
       " 'meadowland',\n",
       " 'transforming',\n",
       " 'palmerae',\n",
       " 'chobel',\n",
       " 'myra',\n",
       " 'sage',\n",
       " 'fasad',\n",
       " 'complementally',\n",
       " 'dissolubility',\n",
       " 'probmot',\n",
       " 'arccosh',\n",
       " 'realized',\n",
       " 'khs',\n",
       " 'invap',\n",
       " 'bogotá',\n",
       " 'oxyhydr',\n",
       " 'λet',\n",
       " 'obada',\n",
       " 'mentue',\n",
       " 'holtedahlfonna',\n",
       " 'electrophenacolestes',\n",
       " 'tancrediakløft',\n",
       " 'whitten',\n",
       " 'thgapb',\n",
       " 'minuscule',\n",
       " 'undecanoic',\n",
       " 'overparameterized',\n",
       " 'ironmakers',\n",
       " 'paleoneurology',\n",
       " 'guardas',\n",
       " 'compsemydidae',\n",
       " 'caducifoliée',\n",
       " 'angolo',\n",
       " 'resembled',\n",
       " 'serotinus',\n",
       " 'malignance',\n",
       " 'tavayarvi',\n",
       " 'sstdsf',\n",
       " 'vyšehořovice',\n",
       " 'pomsets',\n",
       " 'gensacicus',\n",
       " 'hydroisomerized',\n",
       " 'hsia',\n",
       " 'mudclasts',\n",
       " 'comigration',\n",
       " 'rapproché',\n",
       " 'cechexco',\n",
       " 'microplastic',\n",
       " 'padas',\n",
       " 'huachi',\n",
       " 'adrastea',\n",
       " 'amphiglossus',\n",
       " 'mémoire',\n",
       " 'wtao',\n",
       " 'arennig',\n",
       " 'ernie',\n",
       " 'richella',\n",
       " 'tianpinghe',\n",
       " 'brompton',\n",
       " 'amblève',\n",
       " 'jaicós',\n",
       " 'sinapticuliferum',\n",
       " 'reese',\n",
       " 'bouligand',\n",
       " 'marchesato',\n",
       " 'tyto',\n",
       " 'puntal',\n",
       " 'interconnectors',\n",
       " 'letter',\n",
       " 'grip',\n",
       " 'acquièrent',\n",
       " 'tiborszallasi',\n",
       " 'acheuléens',\n",
       " 'bohai',\n",
       " 'hydric',\n",
       " 'graburn',\n",
       " 'angulinuo',\n",
       " 'killarney',\n",
       " 'cvu',\n",
       " 'osangularia',\n",
       " 'fedele',\n",
       " 'chengjiachuan',\n",
       " 'cooleyella',\n",
       " 'utilisable',\n",
       " 'ipsilateral',\n",
       " 'drents',\n",
       " 'andricevic',\n",
       " 'deshpande',\n",
       " 'łukie',\n",
       " 'babeni',\n",
       " 'aafv',\n",
       " 'martiali',\n",
       " 'radau',\n",
       " 'sectoriality',\n",
       " 'messaras',\n",
       " 'hinterland',\n",
       " 'ufer',\n",
       " 'ruisui',\n",
       " 'chiaradia',\n",
       " 'absorbability',\n",
       " 'hild',\n",
       " 'lavatera',\n",
       " 'efnc',\n",
       " 'pigswill',\n",
       " 'quenched',\n",
       " 'ridaforolimus',\n",
       " 'iot',\n",
       " 'weevers',\n",
       " 'ngawha',\n",
       " 'labov',\n",
       " 'testfeld',\n",
       " 'cytheruridae',\n",
       " 'erotetic',\n",
       " 'lucho',\n",
       " 'sverdrupi',\n",
       " 'inm',\n",
       " 'bpev',\n",
       " 'vsurf',\n",
       " 'sbsm',\n",
       " 'kostas',\n",
       " 'monongahela',\n",
       " 'emydid',\n",
       " 'lymphocyte',\n",
       " 'repris',\n",
       " 'groenenberg',\n",
       " 'polyfit',\n",
       " 'foucauldian',\n",
       " 'strąpoć',\n",
       " 'bresser',\n",
       " 'decarboxylation',\n",
       " 'updip',\n",
       " 'hiswa',\n",
       " 'marbled',\n",
       " 'brundtland',\n",
       " 'paraplegic',\n",
       " 'dispositif',\n",
       " 'sessilian',\n",
       " 'ancyrodellid',\n",
       " 'aguadilla',\n",
       " 'aghchai',\n",
       " 'pgve',\n",
       " 'tizong',\n",
       " 'metastable',\n",
       " 'mitchell',\n",
       " 'anguine',\n",
       " 'kafer',\n",
       " 'mayoral',\n",
       " 'nontranspiring',\n",
       " 'lateroplantarly',\n",
       " 'iguanians',\n",
       " 'janvieri',\n",
       " 'esculentus',\n",
       " 'kaltenegger',\n",
       " 'dihydroactinidiolide',\n",
       " 'mnlfld',\n",
       " 'journeyman',\n",
       " 'protoheme',\n",
       " 'camprodon',\n",
       " 'lugou',\n",
       " 'haptophytes',\n",
       " 'choubey',\n",
       " 'idiocy',\n",
       " 'väisänen',\n",
       " 'topos',\n",
       " 'germicidal',\n",
       " 'deduction',\n",
       " 'wakasa',\n",
       " 'ubb',\n",
       " 'drygarn',\n",
       " 'avd',\n",
       " 'alforjas',\n",
       " 'transperitoneal',\n",
       " 'mamba',\n",
       " 'ndcs',\n",
       " 'problematization',\n",
       " 'koch',\n",
       " 'plasterer',\n",
       " 'dicti',\n",
       " 'transmeridional',\n",
       " 'citicoline',\n",
       " 'gzip',\n",
       " 'astakos',\n",
       " 'willyama',\n",
       " 'fluvisol',\n",
       " 'postcephalic',\n",
       " 'momoge',\n",
       " 'nogat',\n",
       " 'lepidotus',\n",
       " 'jempol',\n",
       " 'essayer',\n",
       " 'fomation',\n",
       " 'myrtaceous',\n",
       " 'fincha',\n",
       " 'mqp',\n",
       " 'robur',\n",
       " 'biofertilisers',\n",
       " 'autodeterminación',\n",
       " 'hoplitinae',\n",
       " 'dikelets',\n",
       " 'pinon',\n",
       " 'mendelism',\n",
       " 'mediastinum',\n",
       " 'proéminents',\n",
       " 'photodetached',\n",
       " 'bringewood',\n",
       " 'heao',\n",
       " 'lmea',\n",
       " 'pedina',\n",
       " 'gwq',\n",
       " 'noah',\n",
       " 'gunaydin',\n",
       " 'lascaux',\n",
       " 'mermin',\n",
       " 'acquittal',\n",
       " 'gemmy',\n",
       " 'pagastiella',\n",
       " 'nodulaire',\n",
       " 'mcnp',\n",
       " 'sfhas',\n",
       " 'teutsch',\n",
       " 'monastyrshchina',\n",
       " 'taught',\n",
       " 'kamm',\n",
       " 'veneered',\n",
       " 'nucleides',\n",
       " 'faring',\n",
       " 'décalent',\n",
       " 'noise',\n",
       " 'quipungo',\n",
       " 'dbpfz',\n",
       " 'markström',\n",
       " 'protitea',\n",
       " 'bprq',\n",
       " 'argunensis',\n",
       " 'aisled',\n",
       " 'diagnositic',\n",
       " 'labidognath',\n",
       " 'wetsem',\n",
       " 'termierelloides',\n",
       " 'hydroxyphenyl',\n",
       " 'generated',\n",
       " 'prussin',\n",
       " 'reinitiation',\n",
       " 'fenitization',\n",
       " 'pok',\n",
       " 'pietraforte',\n",
       " 'ptzn',\n",
       " 'barajas',\n",
       " 'metavolcanics',\n",
       " 'douara',\n",
       " 'episymbiotic',\n",
       " 'hydroseed',\n",
       " 'hydrogasification',\n",
       " 'simchar',\n",
       " 'lnof',\n",
       " 'menopause',\n",
       " 'yellice',\n",
       " 'allelochemistry',\n",
       " 'fanbergsbäcken',\n",
       " 'sotty',\n",
       " 'ophicalcite',\n",
       " 'posterity',\n",
       " 'schizolytic',\n",
       " 'seligmannite',\n",
       " 'decreased',\n",
       " 'cognac',\n",
       " 'hubin',\n",
       " 'albaka',\n",
       " 'identifiable',\n",
       " 'embarqués',\n",
       " 'fonctionnant',\n",
       " 'quantar',\n",
       " 'lumpola',\n",
       " 'orquídeas',\n",
       " 'dhanchi',\n",
       " 'cmyk',\n",
       " 'pangasius',\n",
       " 'veselov',\n",
       " 'limpide',\n",
       " 'xct',\n",
       " 'métasomatisé',\n",
       " 'republished',\n",
       " 'wilkens',\n",
       " 'grasvally',\n",
       " 'hangklip',\n",
       " 'biococci',\n",
       " 'echekki',\n",
       " 'bullar',\n",
       " 'predicative',\n",
       " 'bennettii',\n",
       " 'saponization',\n",
       " 'aeduan',\n",
       " 'defunctionalized',\n",
       " 'asphodel',\n",
       " 'potensoft',\n",
       " 'souslik',\n",
       " 'intermarginal',\n",
       " 'comparé',\n",
       " 'threadworks',\n",
       " 'nammalites',\n",
       " 'pfaa',\n",
       " 'bandgaps',\n",
       " 'khurans',\n",
       " 'calyciflorus',\n",
       " 'kinlocke',\n",
       " 'tecmag',\n",
       " 'indicarían',\n",
       " 'interpolatory',\n",
       " 'jiangbasitao',\n",
       " 'ekibastus',\n",
       " 'recuit',\n",
       " 'calmet',\n",
       " 'bandra',\n",
       " 'valdanchella',\n",
       " 'lobang',\n",
       " 'sculptilis',\n",
       " 'transplanted',\n",
       " 'bonaparte',\n",
       " 'kinneyia',\n",
       " 'faraghun',\n",
       " 'aberafon',\n",
       " 'moapa',\n",
       " 'mineralogist',\n",
       " 'basalis',\n",
       " 'phronetic',\n",
       " 'guéckédou',\n",
       " 'awmn',\n",
       " 'thermophilic',\n",
       " 'cymbatus',\n",
       " 'désire',\n",
       " 'ycrop',\n",
       " 'lindingyang',\n",
       " 'mbvs',\n",
       " 'darkola',\n",
       " 'atabishi',\n",
       " 'merker',\n",
       " 'buey',\n",
       " 'barrigada',\n",
       " 'phibun',\n",
       " 'denigration',\n",
       " 'climats',\n",
       " 'mahe',\n",
       " 'biodeteriorating',\n",
       " 'débordant',\n",
       " 'bmgs',\n",
       " 'sail',\n",
       " 'rigol',\n",
       " 'brfa',\n",
       " 'surfside',\n",
       " 'ureter',\n",
       " 'shafie',\n",
       " 'cuneumxylon',\n",
       " 'alates',\n",
       " 'gbellmf',\n",
       " 'différents',\n",
       " 'epihoplites',\n",
       " 'pinheirinhos',\n",
       " 'schizaeoisporites',\n",
       " 'pergola',\n",
       " 'witori',\n",
       " 'luthergrube',\n",
       " 'redundance',\n",
       " 'varanopids',\n",
       " 'yujian',\n",
       " 'nonsystematically',\n",
       " 'convulsed',\n",
       " 'gulliver',\n",
       " 'tode',\n",
       " 'rhacophyllites',\n",
       " 'synaptopodin',\n",
       " 'pnaoh',\n",
       " 'epifacets',\n",
       " 'corroboratory',\n",
       " 'piedimonte',\n",
       " 'vasas',\n",
       " 'crepicephalus',\n",
       " 'vcg',\n",
       " 'rtree',\n",
       " 'balcik',\n",
       " 'uuv',\n",
       " 'butangbunasi',\n",
       " 'barrick',\n",
       " 'modelframe',\n",
       " 'ajer',\n",
       " 'hour',\n",
       " 'aspidochirotida',\n",
       " 'pompeii',\n",
       " 'aglaemap',\n",
       " 'dak',\n",
       " 'eugonophyllum',\n",
       " 'pfw',\n",
       " 'cenica',\n",
       " 'gleisberg',\n",
       " 'sámsonháza',\n",
       " 'balakhnya',\n",
       " 'halagur',\n",
       " 'ametroproctidae',\n",
       " 'pseudoammodiscina',\n",
       " 'praecaprina',\n",
       " 'barreiro',\n",
       " 'moinian',\n",
       " 'radiotellurium',\n",
       " 'pauh',\n",
       " 'stacksplit',\n",
       " 'akri',\n",
       " 'dsve',\n",
       " 'hengshui',\n",
       " 'lifbase',\n",
       " 'hilary',\n",
       " 'gebiete',\n",
       " 'kaida',\n",
       " 'incipiens',\n",
       " 'tachia',\n",
       " 'diversifiée',\n",
       " 'kleegruben',\n",
       " 'shuangtung',\n",
       " 'transhab',\n",
       " 'stft',\n",
       " 'backbeach',\n",
       " 'barasses',\n",
       " 'guallar',\n",
       " 'gdlt',\n",
       " 'dicranum',\n",
       " 'tylosaurines',\n",
       " 'kpe',\n",
       " 'moruya',\n",
       " 'svlk',\n",
       " 'epysienites',\n",
       " 'lymphogranuloma',\n",
       " 'karilysin',\n",
       " 'biogaspro',\n",
       " 'heteralosia',\n",
       " 'micromonas',\n",
       " 'nuancing',\n",
       " 'énonce',\n",
       " 'hamposia',\n",
       " 'kjmn',\n",
       " 'ditney',\n",
       " 'tertibrachials',\n",
       " 'renyi',\n",
       " 'caudiciform',\n",
       " 'pnm',\n",
       " 'paragynous',\n",
       " 'tarndale',\n",
       " 'thalattosaur',\n",
       " 'shahat',\n",
       " 'icap',\n",
       " 'chudnovksy',\n",
       " 'epicycle',\n",
       " 'lonesome',\n",
       " 'ecogeography',\n",
       " 'excavatissimus',\n",
       " 'eksteenfontein',\n",
       " 'agoula',\n",
       " 'unagi',\n",
       " 'teduccio',\n",
       " ...]"
      ]
     },
     "execution_count": 30,
     "metadata": {},
     "output_type": "execute_result"
    }
   ],
   "source": [
    "list(dct.keys())"
   ]
  },
  {
   "cell_type": "code",
   "execution_count": 31,
   "metadata": {},
   "outputs": [
    {
     "data": {
      "text/plain": [
       "array([[ 0.6575543 , -0.10153764, -0.2825202 , ...,  0.64620304,\n",
       "         0.3083481 , -0.46784   ],\n",
       "       [ 0.06665467,  0.11548886,  0.22080564, ..., -0.08355215,\n",
       "         0.00378662, -0.13758856],\n",
       "       [ 0.32676426,  0.26151726, -0.33332917, ...,  0.15112405,\n",
       "         0.00892717, -0.19385871],\n",
       "       ...,\n",
       "       [ 0.02525451, -0.00096976,  0.04692964, ..., -0.05422716,\n",
       "        -0.02048381,  0.01153759],\n",
       "       [ 0.09515277,  0.09372371,  0.09677262, ..., -0.10224963,\n",
       "        -0.06350729, -0.05045411],\n",
       "       [-0.02760863,  0.0040131 ,  0.03059224, ..., -0.04461955,\n",
       "        -0.03546656, -0.00330813]], dtype=float32)"
      ]
     },
     "execution_count": 31,
     "metadata": {},
     "output_type": "execute_result"
    }
   ],
   "source": [
    "v"
   ]
  },
  {
   "cell_type": "code",
   "execution_count": 32,
   "metadata": {
    "collapsed": true
   },
   "outputs": [],
   "source": [
    "# # create a list of vectors\n",
    "embedding = np.empty((len(dct), len(v[0])), dtype=np.float32)\n",
    "i = 0\n",
    "words = list(dct.keys())\n",
    "for word in words:\n",
    "    embedding[i] = v[dct[word]]\n",
    "    i+=1\n",
    "\n"
   ]
  },
  {
   "cell_type": "code",
   "execution_count": 33,
   "metadata": {},
   "outputs": [
    {
     "data": {
      "text/plain": [
       "array([[-0.10594086, -0.05738851,  0.03194365, ..., -0.0674778 ,\n",
       "        -0.0818163 ,  0.03489417],\n",
       "       [ 0.04156372,  0.04673143,  0.00152126, ..., -0.04678056,\n",
       "        -0.04335489,  0.06677914],\n",
       "       [ 0.15134504, -0.15312792,  0.22095971, ...,  0.1411554 ,\n",
       "         0.05863498, -0.08714896],\n",
       "       ...,\n",
       "       [ 0.01521935,  0.01039202,  0.07480428, ..., -0.11425154,\n",
       "        -0.01520954,  0.02502503],\n",
       "       [-0.03544094, -0.01141176,  0.04448843, ..., -0.09215635,\n",
       "        -0.04700284, -0.00754375],\n",
       "       [-0.02017696, -0.04253832,  0.03035418, ..., -0.07796827,\n",
       "        -0.01703196,  0.00919739]], dtype=float32)"
      ]
     },
     "execution_count": 33,
     "metadata": {},
     "output_type": "execute_result"
    }
   ],
   "source": [
    "embedding"
   ]
  },
  {
   "cell_type": "code",
   "execution_count": 34,
   "metadata": {},
   "outputs": [
    {
     "data": {
      "text/plain": [
       "['shinan',\n",
       " 'isocyanic',\n",
       " 'pnc',\n",
       " 'sichuan',\n",
       " 'curium',\n",
       " 'iddings',\n",
       " 'antidiarrheal',\n",
       " 'hilomonadea',\n",
       " 'gier',\n",
       " 'gyda',\n",
       " 'naranjos',\n",
       " 'guangjin',\n",
       " 'chommal',\n",
       " 'pseudogene',\n",
       " 'haningtoni',\n",
       " 'ospo',\n",
       " 'chainpur',\n",
       " 'enacts',\n",
       " 'unparalled',\n",
       " 'termohaline',\n",
       " 'orthopteroids',\n",
       " 'dave',\n",
       " 'ferrigehlenite',\n",
       " 'certified',\n",
       " 'laminata',\n",
       " 'skeletal',\n",
       " 'arikawa',\n",
       " 'beachgrass',\n",
       " 'depicting',\n",
       " 'kuechulin',\n",
       " 'lowenstami',\n",
       " 'nguène',\n",
       " 'schistic',\n",
       " 'arsenicoselenatis',\n",
       " 'biologica',\n",
       " 'melbtal',\n",
       " 'chake',\n",
       " 'manceau',\n",
       " 'condolios',\n",
       " 'lappel',\n",
       " 'nonmineralized',\n",
       " 'smacs',\n",
       " 'lagrangians',\n",
       " 'symmetrodonts',\n",
       " 'tizgui',\n",
       " 'inclusiveness',\n",
       " 'perspectivalism',\n",
       " 'decorticate',\n",
       " 'mathews',\n",
       " 'hantam',\n",
       " 'conidiogenous',\n",
       " 'ranipes',\n",
       " 'lièvres',\n",
       " 'labouchere',\n",
       " 'wulan',\n",
       " 'immunoperoxidase',\n",
       " 'laplace',\n",
       " 'mayne',\n",
       " 'zzz',\n",
       " 'seismostruct',\n",
       " 'impairment',\n",
       " 'tubercules',\n",
       " 'pectens',\n",
       " 'neublans',\n",
       " 'syringae',\n",
       " 'kwanak',\n",
       " 'mfth',\n",
       " 'canoochee',\n",
       " 'methanoregula',\n",
       " 'eighe',\n",
       " 'contaminée',\n",
       " 'précurseurs',\n",
       " 'prieto',\n",
       " 'protégée',\n",
       " 'eye',\n",
       " 'onoideus',\n",
       " 'saccorotti',\n",
       " 'silt',\n",
       " 'sebtide',\n",
       " 'castagniccia',\n",
       " 'negelle',\n",
       " 'quoy',\n",
       " 'rudrón',\n",
       " 'arcanobacterium',\n",
       " 'ptbst',\n",
       " 'organobromines',\n",
       " 'dhla',\n",
       " 'monterone',\n",
       " 'deposed',\n",
       " 'wwnrs',\n",
       " 'rbc',\n",
       " 'pionerskaya',\n",
       " 'beggiatoa',\n",
       " 'helongshan',\n",
       " 'lihd',\n",
       " 'keezhakarai',\n",
       " 'xinshi',\n",
       " 'eukashmirites',\n",
       " 'anodyne',\n",
       " 'mungbean',\n",
       " 'preloaded',\n",
       " 'hydrometrines',\n",
       " 'fuv',\n",
       " 'bertucat',\n",
       " 'inntal',\n",
       " 'regained',\n",
       " 'kna',\n",
       " 'unmature',\n",
       " 'gaotai',\n",
       " 'muddies',\n",
       " 'wallapai',\n",
       " 'amanuensis',\n",
       " 'référencée',\n",
       " 'inmachuk',\n",
       " 'sénarmontite',\n",
       " 'reburn',\n",
       " 'incarcerated',\n",
       " 'siderolitids',\n",
       " 'sinocalopteryx',\n",
       " 'gelocus',\n",
       " 'markermeer',\n",
       " 'miningcap',\n",
       " 'assessment',\n",
       " 'tsom',\n",
       " 'orp',\n",
       " 'phlogoiderhynchus',\n",
       " 'lsm',\n",
       " 'szczawno',\n",
       " 'pnt',\n",
       " 'dunitic',\n",
       " 'downwash',\n",
       " 'tablecurve',\n",
       " 'lenathodus',\n",
       " 'savic',\n",
       " 'stap',\n",
       " 'thermicity',\n",
       " 'pyrolytic',\n",
       " 'kapcharar',\n",
       " 'flexuose',\n",
       " 'selimat',\n",
       " 'stratmodel',\n",
       " 'ches',\n",
       " 'nochino',\n",
       " 'microarray',\n",
       " 'bostrycapulus',\n",
       " 'poro',\n",
       " 'gellenoncourt',\n",
       " 'laternula',\n",
       " 'hemicidaris',\n",
       " 'thermodiluter',\n",
       " 'theodicy',\n",
       " 'nai',\n",
       " 'pyterlites',\n",
       " 'choke',\n",
       " 'paralichthys',\n",
       " 'opted',\n",
       " 'elingamite',\n",
       " 'wehs',\n",
       " 'kostrzyna',\n",
       " 'impermeabilisation',\n",
       " 'nazarovella',\n",
       " 'gaoxie',\n",
       " 'aciduliprofundum',\n",
       " 'bonnsulfvi',\n",
       " 'solonization',\n",
       " 'pyrophylite',\n",
       " 'banfield',\n",
       " 'iroumé',\n",
       " 'bdts',\n",
       " 'axle',\n",
       " 'herding',\n",
       " 'caution',\n",
       " 'shentou',\n",
       " 'pluridisciplinarité',\n",
       " 'jensen',\n",
       " 'flor',\n",
       " 'haubi',\n",
       " 'welleri',\n",
       " 'toharu',\n",
       " 'cofust',\n",
       " 'tolvericeras',\n",
       " 'wierzchowisko',\n",
       " 'rhabdocidaris',\n",
       " 'volcanologically',\n",
       " 'emiquon',\n",
       " 'euphausiids',\n",
       " 'proter',\n",
       " 'redeemable',\n",
       " 'montanalestes',\n",
       " 'rhinotermitidae',\n",
       " 'shangwan',\n",
       " 'ngsts',\n",
       " 'tanyurer',\n",
       " 'alphen',\n",
       " 'koluel',\n",
       " 'bivalved',\n",
       " 'yetter',\n",
       " 'transections',\n",
       " 'hect',\n",
       " 'dongkengtuo',\n",
       " 'unavailable',\n",
       " 'molerat',\n",
       " 'pygidiales',\n",
       " 'blumenstock',\n",
       " 'ogvps',\n",
       " 'daveau',\n",
       " 'jejunata',\n",
       " 'scud',\n",
       " 'boophilus',\n",
       " 'multilobe',\n",
       " 'micromechanism',\n",
       " 'chiropterophilous',\n",
       " 'unrealistically',\n",
       " 'eupatorieae',\n",
       " 'namadica',\n",
       " 'kankary',\n",
       " 'capnuchosphaera',\n",
       " 'gamut',\n",
       " 'lassolas',\n",
       " 'scipione',\n",
       " 'sebastiano',\n",
       " 'yimeng',\n",
       " 'costabel',\n",
       " 'relictum',\n",
       " 'ossrfs',\n",
       " 'plexippus',\n",
       " 'pseudocomponent',\n",
       " 'ccmc',\n",
       " 'precariously',\n",
       " 'carnallitite',\n",
       " 'takenaka',\n",
       " 'nxp',\n",
       " 'huaitoutala',\n",
       " 'atteindrait',\n",
       " 'metz',\n",
       " 'mory',\n",
       " 'tarchonanthus',\n",
       " 'lichrolut',\n",
       " 'pardee',\n",
       " 'reichwalde',\n",
       " 'brigadier',\n",
       " 'centerpiece',\n",
       " 'mpnc',\n",
       " 'gnawed',\n",
       " 'lophodont',\n",
       " 'costantino',\n",
       " 'prevotellaceae',\n",
       " 'rétrécie',\n",
       " 'ngalue',\n",
       " 'fenice',\n",
       " 'hemicryptophytes',\n",
       " 'postsettlement',\n",
       " 'fedorov',\n",
       " 'trangression',\n",
       " 'complaining',\n",
       " 'montignac',\n",
       " 'yekaterinburg',\n",
       " 'communiquées',\n",
       " 'lithofacies',\n",
       " 'cypridids',\n",
       " 'headcut',\n",
       " 'chytridium',\n",
       " 'azoricum',\n",
       " 'ozhogina',\n",
       " 'lithiumtetraborate',\n",
       " 'unleashes',\n",
       " 'noncollapsible',\n",
       " 'irregularis',\n",
       " 'plicatulidae',\n",
       " 'stepdown',\n",
       " 'freewater',\n",
       " 'polypedogenetic',\n",
       " 'parastratotype',\n",
       " 'calcisiltitic',\n",
       " 'silviculturally',\n",
       " 'decodes',\n",
       " 'rétention',\n",
       " 'collusive',\n",
       " 'rodriguezi',\n",
       " 'pedicellaria',\n",
       " 'parafavreina',\n",
       " 'évènements',\n",
       " 'poura',\n",
       " 'alphacx',\n",
       " 'mantoloking',\n",
       " 'głuchowiec',\n",
       " 'redish',\n",
       " 'richness',\n",
       " 'pestfade',\n",
       " 'diabasodden',\n",
       " 'goodland',\n",
       " 'melanosyenites',\n",
       " 'implantable',\n",
       " 'hedc',\n",
       " 'punctic',\n",
       " 'heterotropic',\n",
       " 'oiip',\n",
       " 'tschernyschewi',\n",
       " 'eflow',\n",
       " 'snaf',\n",
       " 'mésorif',\n",
       " 'rewatered',\n",
       " 'slump',\n",
       " 'migmatised',\n",
       " 'hypersthène',\n",
       " 'icsi',\n",
       " 'refugial',\n",
       " 'peano',\n",
       " 'ragno',\n",
       " 'nob',\n",
       " 'trinité',\n",
       " 'astove',\n",
       " 'truax',\n",
       " 'loubieng',\n",
       " 'bigherini',\n",
       " 'fukazawa',\n",
       " 'prinsepia',\n",
       " 'guissani',\n",
       " 'brunneum',\n",
       " 'adorption',\n",
       " 'zyx',\n",
       " 'tambling',\n",
       " 'dyrfjöll',\n",
       " 'achievability',\n",
       " 'distracters',\n",
       " 'resultant',\n",
       " 'vejle',\n",
       " 'yftb',\n",
       " 'nesterenko',\n",
       " 'isalo',\n",
       " 'tuberized',\n",
       " 'słowakiewicz',\n",
       " 'βbc',\n",
       " 'bonvicini',\n",
       " 'ramanujam',\n",
       " 'kurata',\n",
       " 'traditionalistic',\n",
       " 'brome',\n",
       " 'coveney',\n",
       " 'wilis',\n",
       " 'asin',\n",
       " 'bayne',\n",
       " 'gemmological',\n",
       " 'gaizu',\n",
       " 'newportensis',\n",
       " 'sociability',\n",
       " 'stifling',\n",
       " 'amatitán',\n",
       " 'gianluca',\n",
       " 'fushun',\n",
       " 'tetradecahedron',\n",
       " 'ganji',\n",
       " 'lechiguanas',\n",
       " 'esn',\n",
       " 'slchspec',\n",
       " 'maranta',\n",
       " 'noncompatible',\n",
       " 'shahabpour',\n",
       " 'saharan',\n",
       " 'shrinking',\n",
       " 'construites',\n",
       " 'sheboygan',\n",
       " 'taeanense',\n",
       " 'kaynarca',\n",
       " 'xlendi',\n",
       " 'chlorococcaleans',\n",
       " 'offseting',\n",
       " 'simplicis',\n",
       " 'mahalanobisi',\n",
       " 'lippert',\n",
       " 'slsbr',\n",
       " 'neuroblast',\n",
       " 'autoimmune',\n",
       " 'nédélec',\n",
       " 'radiohalos',\n",
       " 'maruja',\n",
       " 'prabhu',\n",
       " 'kerinitis',\n",
       " 'tcrna',\n",
       " 'subcordate',\n",
       " 'seghetta',\n",
       " 'centricity',\n",
       " 'lachea',\n",
       " 'flexilabris',\n",
       " 'gsfs',\n",
       " 'orthostoma',\n",
       " 'serangan',\n",
       " 'bkgd',\n",
       " 'guzel',\n",
       " 'prošek',\n",
       " 'isoplets',\n",
       " 'stillwaters',\n",
       " 'fioriana',\n",
       " 'lesbian',\n",
       " 'boden',\n",
       " 'nanoproduct',\n",
       " 'pepcase',\n",
       " 'xinde',\n",
       " 'vanlauwe',\n",
       " 'nadachowski',\n",
       " 'antipatharia',\n",
       " 'antiphospholipid',\n",
       " 'winged',\n",
       " 'pyoverdines',\n",
       " 'calapooia',\n",
       " 'bathroom',\n",
       " 'baoligaomiao',\n",
       " 'mirabilus',\n",
       " 'cayol',\n",
       " 'egme',\n",
       " 'cbc',\n",
       " 'piramagroon',\n",
       " 'czerwionka',\n",
       " 'cloudlets',\n",
       " 'masdar',\n",
       " 'projectate',\n",
       " 'uropodidae',\n",
       " 'tedrow',\n",
       " 'arrhoges',\n",
       " 'gulungul',\n",
       " 'seigneur',\n",
       " 'friabilis',\n",
       " 'hyotissa',\n",
       " 'cyathostome',\n",
       " 'kohli',\n",
       " 'crystalloplastic',\n",
       " 'wurinitu',\n",
       " 'avdeev',\n",
       " 'bismuthinite',\n",
       " 'extrapolates',\n",
       " 'hiraoka',\n",
       " 'dolomicrosparite',\n",
       " 'ettachfini',\n",
       " 'fioletovo',\n",
       " 'phps',\n",
       " 'unplunging',\n",
       " 'tosna',\n",
       " 'icpmsdatacal',\n",
       " 'organoclays',\n",
       " 'cade',\n",
       " 'fimbristylis',\n",
       " 'mileševa',\n",
       " 'savartii',\n",
       " 'cotectics',\n",
       " 'dmpsa',\n",
       " 'rtfo',\n",
       " 'etcum',\n",
       " 'macaroni',\n",
       " 'ipsepro',\n",
       " 'narval',\n",
       " 'erythematosus',\n",
       " 'bestimmte',\n",
       " 'guanxian',\n",
       " 'faraud',\n",
       " 'identical',\n",
       " 'undisinfected',\n",
       " 'ispra',\n",
       " 'runde',\n",
       " 'basista',\n",
       " 'numberof',\n",
       " 'ofelia',\n",
       " 'uncinunellina',\n",
       " 'ostrava',\n",
       " 'laminaire',\n",
       " 'lathyroides',\n",
       " 'chemolithoautotrophs',\n",
       " 'newspaper',\n",
       " 'nncc',\n",
       " 'rafaelito',\n",
       " 'unclogging',\n",
       " 'calcareuses',\n",
       " 'chimayó',\n",
       " 'gondolellidae',\n",
       " 'inclement',\n",
       " 'gajereh',\n",
       " 'kemikalan',\n",
       " 'proofread',\n",
       " 'weertman',\n",
       " 'pratical',\n",
       " 'preserver',\n",
       " 'epa',\n",
       " 'spoligotype',\n",
       " 'quest',\n",
       " 'incarnation',\n",
       " 'vsfs',\n",
       " 'péridotites',\n",
       " 'albeluvisols',\n",
       " 'usosaldaña',\n",
       " 'nanobots',\n",
       " 'descornet',\n",
       " 'carbonarius',\n",
       " 'alajärvi',\n",
       " 'thiodictyon',\n",
       " 'unquantifiable',\n",
       " 'neaa',\n",
       " 'tetraporobrachia',\n",
       " 'ramblar',\n",
       " 'meddy',\n",
       " 'pseudocyclosorus',\n",
       " 'midday',\n",
       " 'polysaline',\n",
       " 'aogcms',\n",
       " 'rekindle',\n",
       " 'microcanonical',\n",
       " 'methylarsines',\n",
       " 'obrutschewi',\n",
       " 'gromovi',\n",
       " 'veshchevo',\n",
       " 'insititia',\n",
       " 'dalu',\n",
       " 'ellmann',\n",
       " 'datacubes',\n",
       " 'dijck',\n",
       " 'laldhang',\n",
       " 'dispersées',\n",
       " 'chahgaz',\n",
       " 'tariffication',\n",
       " 'equilibrial',\n",
       " 'tuckerellidae',\n",
       " 'forepaw',\n",
       " 'guaratã',\n",
       " 'mmfms',\n",
       " 'hups',\n",
       " 'enhong',\n",
       " 'recyclers',\n",
       " 'verrucomicrobiales',\n",
       " 'kluiving',\n",
       " 'postmeiotic',\n",
       " 'everytime',\n",
       " 'descibes',\n",
       " 'gasque',\n",
       " 'oligomeric',\n",
       " 'preles',\n",
       " 'inferiorly',\n",
       " 'narrated',\n",
       " 'suborthogonal',\n",
       " 'existent',\n",
       " 'shumei',\n",
       " 'bisheterocycle',\n",
       " 'methane',\n",
       " 'anchicaya',\n",
       " 'lcd',\n",
       " 'compactituberculate',\n",
       " 'symboliques',\n",
       " 'meadowland',\n",
       " 'transforming',\n",
       " 'palmerae',\n",
       " 'chobel',\n",
       " 'myra',\n",
       " 'sage',\n",
       " 'fasad',\n",
       " 'complementally',\n",
       " 'dissolubility',\n",
       " 'probmot',\n",
       " 'arccosh',\n",
       " 'realized',\n",
       " 'khs',\n",
       " 'invap',\n",
       " 'bogotá',\n",
       " 'oxyhydr',\n",
       " 'λet',\n",
       " 'obada',\n",
       " 'mentue',\n",
       " 'holtedahlfonna',\n",
       " 'electrophenacolestes',\n",
       " 'tancrediakløft',\n",
       " 'whitten',\n",
       " 'thgapb',\n",
       " 'minuscule',\n",
       " 'undecanoic',\n",
       " 'overparameterized',\n",
       " 'ironmakers',\n",
       " 'paleoneurology',\n",
       " 'guardas',\n",
       " 'compsemydidae',\n",
       " 'caducifoliée',\n",
       " 'angolo',\n",
       " 'resembled',\n",
       " 'serotinus',\n",
       " 'malignance',\n",
       " 'tavayarvi',\n",
       " 'sstdsf',\n",
       " 'vyšehořovice',\n",
       " 'pomsets',\n",
       " 'gensacicus',\n",
       " 'hydroisomerized',\n",
       " 'hsia',\n",
       " 'mudclasts',\n",
       " 'comigration',\n",
       " 'rapproché',\n",
       " 'cechexco',\n",
       " 'microplastic',\n",
       " 'padas',\n",
       " 'huachi',\n",
       " 'adrastea',\n",
       " 'amphiglossus',\n",
       " 'mémoire',\n",
       " 'wtao',\n",
       " 'arennig',\n",
       " 'ernie',\n",
       " 'richella',\n",
       " 'tianpinghe',\n",
       " 'brompton',\n",
       " 'amblève',\n",
       " 'jaicós',\n",
       " 'sinapticuliferum',\n",
       " 'reese',\n",
       " 'bouligand',\n",
       " 'marchesato',\n",
       " 'tyto',\n",
       " 'puntal',\n",
       " 'interconnectors',\n",
       " 'letter',\n",
       " 'grip',\n",
       " 'acquièrent',\n",
       " 'tiborszallasi',\n",
       " 'acheuléens',\n",
       " 'bohai',\n",
       " 'hydric',\n",
       " 'graburn',\n",
       " 'angulinuo',\n",
       " 'killarney',\n",
       " 'cvu',\n",
       " 'osangularia',\n",
       " 'fedele',\n",
       " 'chengjiachuan',\n",
       " 'cooleyella',\n",
       " 'utilisable',\n",
       " 'ipsilateral',\n",
       " 'drents',\n",
       " 'andricevic',\n",
       " 'deshpande',\n",
       " 'łukie',\n",
       " 'babeni',\n",
       " 'aafv',\n",
       " 'martiali',\n",
       " 'radau',\n",
       " 'sectoriality',\n",
       " 'messaras',\n",
       " 'hinterland',\n",
       " 'ufer',\n",
       " 'ruisui',\n",
       " 'chiaradia',\n",
       " 'absorbability',\n",
       " 'hild',\n",
       " 'lavatera',\n",
       " 'efnc',\n",
       " 'pigswill',\n",
       " 'quenched',\n",
       " 'ridaforolimus',\n",
       " 'iot',\n",
       " 'weevers',\n",
       " 'ngawha',\n",
       " 'labov',\n",
       " 'testfeld',\n",
       " 'cytheruridae',\n",
       " 'erotetic',\n",
       " 'lucho',\n",
       " 'sverdrupi',\n",
       " 'inm',\n",
       " 'bpev',\n",
       " 'vsurf',\n",
       " 'sbsm',\n",
       " 'kostas',\n",
       " 'monongahela',\n",
       " 'emydid',\n",
       " 'lymphocyte',\n",
       " 'repris',\n",
       " 'groenenberg',\n",
       " 'polyfit',\n",
       " 'foucauldian',\n",
       " 'strąpoć',\n",
       " 'bresser',\n",
       " 'decarboxylation',\n",
       " 'updip',\n",
       " 'hiswa',\n",
       " 'marbled',\n",
       " 'brundtland',\n",
       " 'paraplegic',\n",
       " 'dispositif',\n",
       " 'sessilian',\n",
       " 'ancyrodellid',\n",
       " 'aguadilla',\n",
       " 'aghchai',\n",
       " 'pgve',\n",
       " 'tizong',\n",
       " 'metastable',\n",
       " 'mitchell',\n",
       " 'anguine',\n",
       " 'kafer',\n",
       " 'mayoral',\n",
       " 'nontranspiring',\n",
       " 'lateroplantarly',\n",
       " 'iguanians',\n",
       " 'janvieri',\n",
       " 'esculentus',\n",
       " 'kaltenegger',\n",
       " 'dihydroactinidiolide',\n",
       " 'mnlfld',\n",
       " 'journeyman',\n",
       " 'protoheme',\n",
       " 'camprodon',\n",
       " 'lugou',\n",
       " 'haptophytes',\n",
       " 'choubey',\n",
       " 'idiocy',\n",
       " 'väisänen',\n",
       " 'topos',\n",
       " 'germicidal',\n",
       " 'deduction',\n",
       " 'wakasa',\n",
       " 'ubb',\n",
       " 'drygarn',\n",
       " 'avd',\n",
       " 'alforjas',\n",
       " 'transperitoneal',\n",
       " 'mamba',\n",
       " 'ndcs',\n",
       " 'problematization',\n",
       " 'koch',\n",
       " 'plasterer',\n",
       " 'dicti',\n",
       " 'transmeridional',\n",
       " 'citicoline',\n",
       " 'gzip',\n",
       " 'astakos',\n",
       " 'willyama',\n",
       " 'fluvisol',\n",
       " 'postcephalic',\n",
       " 'momoge',\n",
       " 'nogat',\n",
       " 'lepidotus',\n",
       " 'jempol',\n",
       " 'essayer',\n",
       " 'fomation',\n",
       " 'myrtaceous',\n",
       " 'fincha',\n",
       " 'mqp',\n",
       " 'robur',\n",
       " 'biofertilisers',\n",
       " 'autodeterminación',\n",
       " 'hoplitinae',\n",
       " 'dikelets',\n",
       " 'pinon',\n",
       " 'mendelism',\n",
       " 'mediastinum',\n",
       " 'proéminents',\n",
       " 'photodetached',\n",
       " 'bringewood',\n",
       " 'heao',\n",
       " 'lmea',\n",
       " 'pedina',\n",
       " 'gwq',\n",
       " 'noah',\n",
       " 'gunaydin',\n",
       " 'lascaux',\n",
       " 'mermin',\n",
       " 'acquittal',\n",
       " 'gemmy',\n",
       " 'pagastiella',\n",
       " 'nodulaire',\n",
       " 'mcnp',\n",
       " 'sfhas',\n",
       " 'teutsch',\n",
       " 'monastyrshchina',\n",
       " 'taught',\n",
       " 'kamm',\n",
       " 'veneered',\n",
       " 'nucleides',\n",
       " 'faring',\n",
       " 'décalent',\n",
       " 'noise',\n",
       " 'quipungo',\n",
       " 'dbpfz',\n",
       " 'markström',\n",
       " 'protitea',\n",
       " 'bprq',\n",
       " 'argunensis',\n",
       " 'aisled',\n",
       " 'diagnositic',\n",
       " 'labidognath',\n",
       " 'wetsem',\n",
       " 'termierelloides',\n",
       " 'hydroxyphenyl',\n",
       " 'generated',\n",
       " 'prussin',\n",
       " 'reinitiation',\n",
       " 'fenitization',\n",
       " 'pok',\n",
       " 'pietraforte',\n",
       " 'ptzn',\n",
       " 'barajas',\n",
       " 'metavolcanics',\n",
       " 'douara',\n",
       " 'episymbiotic',\n",
       " 'hydroseed',\n",
       " 'hydrogasification',\n",
       " 'simchar',\n",
       " 'lnof',\n",
       " 'menopause',\n",
       " 'yellice',\n",
       " 'allelochemistry',\n",
       " 'fanbergsbäcken',\n",
       " 'sotty',\n",
       " 'ophicalcite',\n",
       " 'posterity',\n",
       " 'schizolytic',\n",
       " 'seligmannite',\n",
       " 'decreased',\n",
       " 'cognac',\n",
       " 'hubin',\n",
       " 'albaka',\n",
       " 'identifiable',\n",
       " 'embarqués',\n",
       " 'fonctionnant',\n",
       " 'quantar',\n",
       " 'lumpola',\n",
       " 'orquídeas',\n",
       " 'dhanchi',\n",
       " 'cmyk',\n",
       " 'pangasius',\n",
       " 'veselov',\n",
       " 'limpide',\n",
       " 'xct',\n",
       " 'métasomatisé',\n",
       " 'republished',\n",
       " 'wilkens',\n",
       " 'grasvally',\n",
       " 'hangklip',\n",
       " 'biococci',\n",
       " 'echekki',\n",
       " 'bullar',\n",
       " 'predicative',\n",
       " 'bennettii',\n",
       " 'saponization',\n",
       " 'aeduan',\n",
       " 'defunctionalized',\n",
       " 'asphodel',\n",
       " 'potensoft',\n",
       " 'souslik',\n",
       " 'intermarginal',\n",
       " 'comparé',\n",
       " 'threadworks',\n",
       " 'nammalites',\n",
       " 'pfaa',\n",
       " 'bandgaps',\n",
       " 'khurans',\n",
       " 'calyciflorus',\n",
       " 'kinlocke',\n",
       " 'tecmag',\n",
       " 'indicarían',\n",
       " 'interpolatory',\n",
       " 'jiangbasitao',\n",
       " 'ekibastus',\n",
       " 'recuit',\n",
       " 'calmet',\n",
       " 'bandra',\n",
       " 'valdanchella',\n",
       " 'lobang',\n",
       " 'sculptilis',\n",
       " 'transplanted',\n",
       " 'bonaparte',\n",
       " 'kinneyia',\n",
       " 'faraghun',\n",
       " 'aberafon',\n",
       " 'moapa',\n",
       " 'mineralogist',\n",
       " 'basalis',\n",
       " 'phronetic',\n",
       " 'guéckédou',\n",
       " 'awmn',\n",
       " 'thermophilic',\n",
       " 'cymbatus',\n",
       " 'désire',\n",
       " 'ycrop',\n",
       " 'lindingyang',\n",
       " 'mbvs',\n",
       " 'darkola',\n",
       " 'atabishi',\n",
       " 'merker',\n",
       " 'buey',\n",
       " 'barrigada',\n",
       " 'phibun',\n",
       " 'denigration',\n",
       " 'climats',\n",
       " 'mahe',\n",
       " 'biodeteriorating',\n",
       " 'débordant',\n",
       " 'bmgs',\n",
       " 'sail',\n",
       " 'rigol',\n",
       " 'brfa',\n",
       " 'surfside',\n",
       " 'ureter',\n",
       " 'shafie',\n",
       " 'cuneumxylon',\n",
       " 'alates',\n",
       " 'gbellmf',\n",
       " 'différents',\n",
       " 'epihoplites',\n",
       " 'pinheirinhos',\n",
       " 'schizaeoisporites',\n",
       " 'pergola',\n",
       " 'witori',\n",
       " 'luthergrube',\n",
       " 'redundance',\n",
       " 'varanopids',\n",
       " 'yujian',\n",
       " 'nonsystematically',\n",
       " 'convulsed',\n",
       " 'gulliver',\n",
       " 'tode',\n",
       " 'rhacophyllites',\n",
       " 'synaptopodin',\n",
       " 'pnaoh',\n",
       " 'epifacets',\n",
       " 'corroboratory',\n",
       " 'piedimonte',\n",
       " 'vasas',\n",
       " 'crepicephalus',\n",
       " 'vcg',\n",
       " 'rtree',\n",
       " 'balcik',\n",
       " 'uuv',\n",
       " 'butangbunasi',\n",
       " 'barrick',\n",
       " 'modelframe',\n",
       " 'ajer',\n",
       " 'hour',\n",
       " 'aspidochirotida',\n",
       " 'pompeii',\n",
       " 'aglaemap',\n",
       " 'dak',\n",
       " 'eugonophyllum',\n",
       " 'pfw',\n",
       " 'cenica',\n",
       " 'gleisberg',\n",
       " 'sámsonháza',\n",
       " 'balakhnya',\n",
       " 'halagur',\n",
       " 'ametroproctidae',\n",
       " 'pseudoammodiscina',\n",
       " 'praecaprina',\n",
       " 'barreiro',\n",
       " 'moinian',\n",
       " 'radiotellurium',\n",
       " 'pauh',\n",
       " 'stacksplit',\n",
       " 'akri',\n",
       " 'dsve',\n",
       " 'hengshui',\n",
       " 'lifbase',\n",
       " 'hilary',\n",
       " 'gebiete',\n",
       " 'kaida',\n",
       " 'incipiens',\n",
       " 'tachia',\n",
       " 'diversifiée',\n",
       " 'kleegruben',\n",
       " 'shuangtung',\n",
       " 'transhab',\n",
       " 'stft',\n",
       " 'backbeach',\n",
       " 'barasses',\n",
       " 'guallar',\n",
       " 'gdlt',\n",
       " 'dicranum',\n",
       " 'tylosaurines',\n",
       " 'kpe',\n",
       " 'moruya',\n",
       " 'svlk',\n",
       " 'epysienites',\n",
       " 'lymphogranuloma',\n",
       " 'karilysin',\n",
       " 'biogaspro',\n",
       " 'heteralosia',\n",
       " 'micromonas',\n",
       " 'nuancing',\n",
       " 'énonce',\n",
       " 'hamposia',\n",
       " 'kjmn',\n",
       " 'ditney',\n",
       " 'tertibrachials',\n",
       " 'renyi',\n",
       " 'caudiciform',\n",
       " 'pnm',\n",
       " 'paragynous',\n",
       " 'tarndale',\n",
       " 'thalattosaur',\n",
       " 'shahat',\n",
       " 'icap',\n",
       " 'chudnovksy',\n",
       " 'epicycle',\n",
       " 'lonesome',\n",
       " 'ecogeography',\n",
       " 'excavatissimus',\n",
       " 'eksteenfontein',\n",
       " 'agoula',\n",
       " 'unagi',\n",
       " 'teduccio',\n",
       " ...]"
      ]
     },
     "execution_count": 34,
     "metadata": {},
     "output_type": "execute_result"
    }
   ],
   "source": [
    "words"
   ]
  },
  {
   "cell_type": "code",
   "execution_count": 35,
   "metadata": {
    "collapsed": true
   },
   "outputs": [],
   "source": [
    "# # create a list of vectors\n",
    "# embedding = np.empty((len(word2vec.words), word2vec.dim), dtype=np.float32)\n",
    "# for i, word in enumerate(word2vec.words):\n",
    "#     embedding[i] = word2vec[word]"
   ]
  },
  {
   "cell_type": "code",
   "execution_count": 36,
   "metadata": {},
   "outputs": [
    {
     "name": "stdout",
     "output_type": "stream",
     "text": [
      "mkdir: log: File exists\r\n"
     ]
    }
   ],
   "source": [
    "!mkdir 'log'\n",
    "!cd log\n",
    "!touch 'metadata.tsv'\n",
    "!cd .."
   ]
  },
  {
   "cell_type": "code",
   "execution_count": 138,
   "metadata": {},
   "outputs": [
    {
     "data": {
      "text/plain": [
       "'log/model.ckpt'"
      ]
     },
     "execution_count": 138,
     "metadata": {},
     "output_type": "execute_result"
    }
   ],
   "source": [
    "# setup a TensorFlow session\n",
    "tf.reset_default_graph()\n",
    "sess = tf.InteractiveSession()\n",
    "X = tf.Variable([0.0], name='embedding')\n",
    "place = tf.placeholder(tf.float32, shape=embedding.shape)\n",
    "set_x = tf.assign(X, place, validate_shape=False)\n",
    "sess.run(tf.global_variables_initializer())\n",
    "sess.run(set_x, feed_dict={place: embedding})\n",
    "\n",
    "# write labels\n",
    "# with open('log/metadata.tsv', 'w') as f:\n",
    "# #     for word in word2vec.words:\n",
    "#     for word in words:\n",
    "#         f.write(word + '\\n')\n",
    "\n",
    "# create a TensorFlow summary writer\n",
    "summary_writer = tf.summary.FileWriter('log', sess.graph)\n",
    "config = projector.ProjectorConfig()\n",
    "embedding_conf = config.embeddings.add()\n",
    "embedding_conf.tensor_name = 'embedding:0'\n",
    "embedding_conf.metadata_path = os.path.join('log', 'metadata1.tsv')\n",
    "projector.visualize_embeddings(summary_writer, config)\n",
    "\n",
    "# save the model\n",
    "saver = tf.train.Saver()\n",
    "saver.save(sess, os.path.join('log', \"model.ckpt\"))"
   ]
  },
  {
   "cell_type": "code",
   "execution_count": 139,
   "metadata": {},
   "outputs": [
    {
     "name": "stdout",
     "output_type": "stream",
     "text": [
      "TensorFlow installation not found - running with reduced feature set.\n",
      "W0729 20:29:11.878477 123145570467840 plugin_event_accumulator.py:323] Found more than one graph event per run, or there was a metagraph containing a graph_def, as well as one or more graph events.  Overwriting the graph with the newest event.\n",
      "W0729 20:29:11.879190 123145570467840 plugin_event_accumulator.py:335] Found more than one metagraph event per run. Overwriting the metagraph with the newest event.\n",
      "W0729 20:29:11.880587 123145570467840 plugin_event_accumulator.py:323] Found more than one graph event per run, or there was a metagraph containing a graph_def, as well as one or more graph events.  Overwriting the graph with the newest event.\n",
      "W0729 20:29:11.882354 123145570467840 plugin_event_accumulator.py:323] Found more than one graph event per run, or there was a metagraph containing a graph_def, as well as one or more graph events.  Overwriting the graph with the newest event.\n",
      "W0729 20:29:11.883895 123145570467840 plugin_event_accumulator.py:323] Found more than one graph event per run, or there was a metagraph containing a graph_def, as well as one or more graph events.  Overwriting the graph with the newest event.\n",
      "W0729 20:29:11.885116 123145570467840 plugin_event_accumulator.py:323] Found more than one graph event per run, or there was a metagraph containing a graph_def, as well as one or more graph events.  Overwriting the graph with the newest event.\n",
      "Serving TensorBoard on localhost; to expose to the network, use a proxy or pass --bind_all\n",
      "TensorBoard 2.3.0 at http://localhost:6006/ (Press CTRL+C to quit)\n",
      "^C\n"
     ]
    }
   ],
   "source": [
    "!tensorboard --logdir=log"
   ]
  },
  {
   "cell_type": "code",
   "execution_count": 42,
   "metadata": {
    "collapsed": true
   },
   "outputs": [],
   "source": [
    "#!pip install mkl"
   ]
  },
  {
   "cell_type": "code",
   "execution_count": 40,
   "metadata": {
    "collapsed": true
   },
   "outputs": [],
   "source": [
    "import io\n"
   ]
  },
  {
   "cell_type": "code",
   "execution_count": 41,
   "metadata": {},
   "outputs": [
    {
     "ename": "NameError",
     "evalue": "name 'info' is not defined",
     "output_type": "error",
     "traceback": [
      "\u001b[0;31m---------------------------------------------------------------------------\u001b[0m",
      "\u001b[0;31mNameError\u001b[0m                                 Traceback (most recent call last)",
      "\u001b[0;32m<ipython-input-41-6052ead7294b>\u001b[0m in \u001b[0;36m<module>\u001b[0;34m()\u001b[0m\n\u001b[1;32m      1\u001b[0m \u001b[0;34m\u001b[0m\u001b[0m\n\u001b[0;32m----> 2\u001b[0;31m \u001b[0mencoder\u001b[0m \u001b[0;34m=\u001b[0m \u001b[0minfo\u001b[0m\u001b[0;34m.\u001b[0m\u001b[0mfeatures\u001b[0m\u001b[0;34m[\u001b[0m\u001b[0;34m'text'\u001b[0m\u001b[0;34m]\u001b[0m\u001b[0;34m.\u001b[0m\u001b[0mencoder\u001b[0m\u001b[0;34m\u001b[0m\u001b[0m\n\u001b[0m\u001b[1;32m      3\u001b[0m \u001b[0;34m\u001b[0m\u001b[0m\n\u001b[1;32m      4\u001b[0m \u001b[0mout_v\u001b[0m \u001b[0;34m=\u001b[0m \u001b[0mio\u001b[0m\u001b[0;34m.\u001b[0m\u001b[0mopen\u001b[0m\u001b[0;34m(\u001b[0m\u001b[0;34m'vecs.tsv'\u001b[0m\u001b[0;34m,\u001b[0m \u001b[0;34m'w'\u001b[0m\u001b[0;34m,\u001b[0m \u001b[0mencoding\u001b[0m\u001b[0;34m=\u001b[0m\u001b[0;34m'utf-8'\u001b[0m\u001b[0;34m)\u001b[0m\u001b[0;34m\u001b[0m\u001b[0m\n\u001b[1;32m      5\u001b[0m \u001b[0mout_m\u001b[0m \u001b[0;34m=\u001b[0m \u001b[0mio\u001b[0m\u001b[0;34m.\u001b[0m\u001b[0mopen\u001b[0m\u001b[0;34m(\u001b[0m\u001b[0;34m'meta.tsv'\u001b[0m\u001b[0;34m,\u001b[0m \u001b[0;34m'w'\u001b[0m\u001b[0;34m,\u001b[0m \u001b[0mencoding\u001b[0m\u001b[0;34m=\u001b[0m\u001b[0;34m'utf-8'\u001b[0m\u001b[0;34m)\u001b[0m\u001b[0;34m\u001b[0m\u001b[0m\n",
      "\u001b[0;31mNameError\u001b[0m: name 'info' is not defined"
     ]
    }
   ],
   "source": [
    "\n",
    "encoder = info.features['text'].encoder\n",
    "\n",
    "out_v = io.open('vecs.tsv', 'w', encoding='utf-8')\n",
    "out_m = io.open('meta.tsv', 'w', encoding='utf-8')\n",
    "\n",
    "for num, word in enumerate(encoder.subwords):\n",
    "  vec = weights[num+1] # skip 0, it's padding.\n",
    "  out_m.write(word + \"\\n\")\n",
    "  out_v.write('\\t'.join([str(x) for x in vec]) + \"\\n\")\n",
    "out_v.close()\n",
    "out_m.close()\n"
   ]
  },
  {
   "cell_type": "code",
   "execution_count": null,
   "metadata": {
    "collapsed": true
   },
   "outputs": [],
   "source": [
    "!cd log\n",
    "!touch 'log/vecs.tsv'\n",
    "!cd .."
   ]
  },
  {
   "cell_type": "code",
   "execution_count": null,
   "metadata": {
    "collapsed": true
   },
   "outputs": [],
   "source": [
    "\n",
    "out_v = io.open('log/vecs.tsv', 'w', encoding='utf-8')\n",
    "\n",
    "for n,weights in enumerate(embedding):\n",
    "    vec = v[n]\n",
    "    out_v.write('\\t'.join([str(x) for x in vec]) + \"\\n\")"
   ]
  },
  {
   "cell_type": "code",
   "execution_count": null,
   "metadata": {
    "collapsed": true
   },
   "outputs": [],
   "source": []
  },
  {
   "cell_type": "code",
   "execution_count": null,
   "metadata": {
    "collapsed": true
   },
   "outputs": [],
   "source": []
  },
  {
   "cell_type": "markdown",
   "metadata": {},
   "source": [
    "### Get geology dictionary of english words\n",
    "here: https://www.geologynet.com/programs/geology.dic"
   ]
  },
  {
   "cell_type": "markdown",
   "metadata": {},
   "source": [
    "wget gets denied! just download manually"
   ]
  },
  {
   "cell_type": "code",
   "execution_count": null,
   "metadata": {
    "collapsed": true
   },
   "outputs": [],
   "source": [
    "# !pip install wget"
   ]
  },
  {
   "cell_type": "code",
   "execution_count": null,
   "metadata": {
    "collapsed": true
   },
   "outputs": [],
   "source": [
    "# import wget\n"
   ]
  },
  {
   "cell_type": "code",
   "execution_count": null,
   "metadata": {
    "collapsed": true
   },
   "outputs": [],
   "source": [
    "# geowords_url ='https://www.geologynet.com/programs/geology.dic'"
   ]
  },
  {
   "cell_type": "code",
   "execution_count": null,
   "metadata": {
    "collapsed": true
   },
   "outputs": [],
   "source": [
    "# geowords_english_r = requests.get(geowords_url)\n",
    "# wget.download(geowords_ur, 'geowords.txt')\n"
   ]
  },
  {
   "cell_type": "code",
   "execution_count": null,
   "metadata": {
    "collapsed": true
   },
   "outputs": [],
   "source": [
    "# geowords_english_r"
   ]
  },
  {
   "cell_type": "code",
   "execution_count": null,
   "metadata": {
    "collapsed": true
   },
   "outputs": [],
   "source": [
    "# geowords_english = open('./geowords.txt', 'wb').write(geowords_english_r.content)"
   ]
  },
  {
   "cell_type": "code",
   "execution_count": null,
   "metadata": {
    "collapsed": true
   },
   "outputs": [],
   "source": [
    "# geowords_english"
   ]
  },
  {
   "cell_type": "code",
   "execution_count": 43,
   "metadata": {
    "collapsed": true
   },
   "outputs": [],
   "source": [
    "file = open('geowords.txt', 'r') \n",
    "geowords_english = file.read()"
   ]
  },
  {
   "cell_type": "code",
   "execution_count": 44,
   "metadata": {},
   "outputs": [
    {
     "data": {
      "text/plain": [
       "56906"
      ]
     },
     "execution_count": 44,
     "metadata": {},
     "output_type": "execute_result"
    }
   ],
   "source": [
    "len(geowords_english)"
   ]
  },
  {
   "cell_type": "code",
   "execution_count": 45,
   "metadata": {},
   "outputs": [
    {
     "data": {
      "text/plain": [
       "'aalenian\\nabaete\\nabdon\\naberdour\\nabiogenic\\nabiotic\\na'"
      ]
     },
     "execution_count": 45,
     "metadata": {},
     "output_type": "execute_result"
    }
   ],
   "source": [
    "geowords_english[0:50]"
   ]
  },
  {
   "cell_type": "code",
   "execution_count": 46,
   "metadata": {
    "collapsed": true
   },
   "outputs": [],
   "source": [
    "geowords_split = geowords_english.split(\"\\n\")"
   ]
  },
  {
   "cell_type": "code",
   "execution_count": 47,
   "metadata": {},
   "outputs": [
    {
     "data": {
      "text/plain": [
       "['aalenian',\n",
       " 'abaete',\n",
       " 'abdon',\n",
       " 'aberdour',\n",
       " 'abiogenic',\n",
       " 'abiotic',\n",
       " 'abiquiu',\n",
       " 'abitibi',\n",
       " 'abk',\n",
       " 'ablagerung',\n",
       " 'ablagerungen',\n",
       " 'ablagerungsmilieu',\n",
       " 'ablagerungsmilieus',\n",
       " 'aboral',\n",
       " 'abrolhos',\n",
       " 'abrupts',\n",
       " 'abs',\n",
       " 'absaroka',\n",
       " 'absarokite',\n",
       " 'abu',\n",
       " 'abundances',\n",
       " 'acadian',\n",
       " 'acado',\n",
       " 'acanthocephela',\n",
       " 'accomack',\n",
       " 'accor',\n",
       " 'accretionary',\n",
       " 'acheulian',\n",
       " 'achladi',\n",
       " 'achondrites',\n",
       " 'achroite',\n",
       " 'acicular',\n",
       " 'acoma',\n",
       " 'acritarch',\n",
       " 'acritarchs',\n",
       " 'acropora',\n",
       " 'acrozone',\n",
       " 'actinides',\n",
       " 'actinolite',\n",
       " 'activit',\n",
       " 'actuelle',\n",
       " 'actuelles',\n",
       " 'actuels',\n",
       " 'ada',\n",
       " 'adak',\n",
       " 'adambulacrum',\n",
       " 'adamellite',\n",
       " 'adams',\n",
       " 'adavale',\n",
       " 'adaville']"
      ]
     },
     "execution_count": 47,
     "metadata": {},
     "output_type": "execute_result"
    }
   ],
   "source": [
    "geowords_split[0:50]"
   ]
  },
  {
   "cell_type": "code",
   "execution_count": 48,
   "metadata": {},
   "outputs": [
    {
     "data": {
      "text/plain": [
       "'acoma'"
      ]
     },
     "execution_count": 48,
     "metadata": {},
     "output_type": "execute_result"
    }
   ],
   "source": [
    "geowords_split[32]"
   ]
  },
  {
   "cell_type": "code",
   "execution_count": 74,
   "metadata": {},
   "outputs": [
    {
     "data": {
      "text/plain": [
       "False"
      ]
     },
     "execution_count": 74,
     "metadata": {},
     "output_type": "execute_result"
    }
   ],
   "source": [
    "\"sandstone\" in geowords_split"
   ]
  },
  {
   "cell_type": "code",
   "execution_count": 49,
   "metadata": {},
   "outputs": [
    {
     "data": {
      "text/plain": [
       "list"
      ]
     },
     "execution_count": 49,
     "metadata": {},
     "output_type": "execute_result"
    }
   ],
   "source": [
    "type(geowords_split)"
   ]
  },
  {
   "cell_type": "code",
   "execution_count": 50,
   "metadata": {
    "collapsed": true
   },
   "outputs": [],
   "source": [
    "def onlyEnglishwordsPlease(embedding,english_words):\n",
    "    new_embedding = {}\n",
    "    words_in_embedding = list(embedding.keys())\n",
    "    for word in english_words:\n",
    "        if word in words_in_embedding:\n",
    "            new_embedding[word] = embedding[word]\n",
    "    return new_embedding"
   ]
  },
  {
   "cell_type": "code",
   "execution_count": 51,
   "metadata": {
    "collapsed": true
   },
   "outputs": [],
   "source": [
    "geovec_english_embedding = onlyEnglishwordsPlease(new_vector_embedding,geowords_split)"
   ]
  },
  {
   "cell_type": "code",
   "execution_count": 52,
   "metadata": {},
   "outputs": [
    {
     "data": {
      "text/plain": [
       "4587"
      ]
     },
     "execution_count": 52,
     "metadata": {},
     "output_type": "execute_result"
    }
   ],
   "source": [
    "len(list(geovec_english_embedding.keys()))"
   ]
  },
  {
   "cell_type": "code",
   "execution_count": 53,
   "metadata": {},
   "outputs": [
    {
     "data": {
      "text/plain": [
       "['ngaterian',\n",
       " 'congo',\n",
       " 'nevada',\n",
       " 'viburnum',\n",
       " 'advection',\n",
       " 'turonian',\n",
       " 'floristics',\n",
       " 'skilak',\n",
       " 'phenetic',\n",
       " 'springhill']"
      ]
     },
     "execution_count": 53,
     "metadata": {},
     "output_type": "execute_result"
    }
   ],
   "source": [
    "list(geovec_english_embedding.keys())[0:10]"
   ]
  },
  {
   "cell_type": "code",
   "execution_count": 55,
   "metadata": {},
   "outputs": [
    {
     "data": {
      "text/plain": [
       "['cambro',\n",
       " 'speculatively',\n",
       " 'clade',\n",
       " 'hampshire',\n",
       " 'metabasalt',\n",
       " 'gebco',\n",
       " 'tyrrhenian',\n",
       " 'zimbabwe',\n",
       " 'almandine',\n",
       " 'malawi',\n",
       " 'chihuahua',\n",
       " 'missourian',\n",
       " 'recharge',\n",
       " 'baluchistan',\n",
       " 'barril',\n",
       " 'kii',\n",
       " 'escarpment',\n",
       " 'vocontian',\n",
       " 'ordovician',\n",
       " 'dacite',\n",
       " 'continentaux',\n",
       " 'vergons',\n",
       " 'panhandle',\n",
       " 'sargasso',\n",
       " 'adelaide',\n",
       " 'synform',\n",
       " 'ethiopia',\n",
       " 'vapeur',\n",
       " 'kenai',\n",
       " 'pliny',\n",
       " 'lycopsida',\n",
       " 'orthosilicates',\n",
       " 'swedish',\n",
       " 'hirnantian',\n",
       " 'abrupts',\n",
       " 'xonotlite',\n",
       " 'gangolihat',\n",
       " 'artinskian',\n",
       " 'oldhamia',\n",
       " 'diagenetic',\n",
       " 'cladistics',\n",
       " 'pangean',\n",
       " 'suboceanic',\n",
       " 'ferricretes',\n",
       " 'ghyben',\n",
       " 'quelques',\n",
       " 'fourier',\n",
       " 'hyco',\n",
       " 'piedra',\n",
       " 'tectono',\n",
       " 'succesional',\n",
       " 'salem',\n",
       " 'myriophyllum',\n",
       " 'gallatin',\n",
       " 'archaean',\n",
       " 'palaeotemperatures',\n",
       " 'groupe',\n",
       " 'depositional',\n",
       " 'hypersaline',\n",
       " 'bolivina',\n",
       " 'scythian',\n",
       " 'leone',\n",
       " 'mitteilungen',\n",
       " 'saskatchewan',\n",
       " 'anisian',\n",
       " 'lithofacies',\n",
       " 'litho',\n",
       " 'paleogeography',\n",
       " 'echinodermata',\n",
       " 'guaymas',\n",
       " 'cathodoluminescence',\n",
       " 'siskiyou',\n",
       " 'meltwater',\n",
       " 'speleological',\n",
       " 'argentino',\n",
       " 'delle',\n",
       " 'smackover',\n",
       " 'ivishak',\n",
       " 'balsamifera',\n",
       " 'conodonta',\n",
       " 'gilchrist',\n",
       " 'peshawar',\n",
       " 'atkan',\n",
       " 'syngenetic',\n",
       " 'moine',\n",
       " 'nics',\n",
       " 'washington',\n",
       " 'autoxidation',\n",
       " 'humber',\n",
       " 'biogeochemistry',\n",
       " 'pyrrhotite',\n",
       " 'yamuna',\n",
       " 'anglo',\n",
       " 'antonio',\n",
       " 'paleogeographical',\n",
       " 'hayne',\n",
       " 'partie',\n",
       " 'blackwater',\n",
       " 'brassfield',\n",
       " 'acritarchs',\n",
       " 'inuyama',\n",
       " 'lemhi',\n",
       " 'fuego',\n",
       " 'antarctia',\n",
       " 'isopach',\n",
       " 'peytoia',\n",
       " 'nearshore',\n",
       " 'pelitic',\n",
       " 'kapuni',\n",
       " 'callovian',\n",
       " 'corallian',\n",
       " 'euler',\n",
       " 'lignin',\n",
       " 'ferraroti',\n",
       " 'ameki',\n",
       " 'scottish',\n",
       " 'biochronologically',\n",
       " 'biogenicity',\n",
       " 'schneider',\n",
       " 'adamellite']"
      ]
     },
     "execution_count": 55,
     "metadata": {},
     "output_type": "execute_result"
    }
   ],
   "source": [
    "list(geovec_english_embedding.keys())[250:370]"
   ]
  },
  {
   "cell_type": "code",
   "execution_count": 65,
   "metadata": {},
   "outputs": [
    {
     "ename": "KeyError",
     "evalue": "'quartz'",
     "output_type": "error",
     "traceback": [
      "\u001b[0;31m---------------------------------------------------------------------------\u001b[0m",
      "\u001b[0;31mKeyError\u001b[0m                                  Traceback (most recent call last)",
      "\u001b[0;32m<ipython-input-65-768f376af658>\u001b[0m in \u001b[0;36m<module>\u001b[0;34m()\u001b[0m\n\u001b[0;32m----> 1\u001b[0;31m \u001b[0mgeovec_english_embedding\u001b[0m\u001b[0;34m[\u001b[0m\u001b[0;34m'quartz'\u001b[0m\u001b[0;34m]\u001b[0m\u001b[0;34m\u001b[0m\u001b[0m\n\u001b[0m",
      "\u001b[0;31mKeyError\u001b[0m: 'quartz'"
     ]
    }
   ],
   "source": [
    "geovec_english_embedding['quartz']"
   ]
  },
  {
   "cell_type": "code",
   "execution_count": 97,
   "metadata": {
    "collapsed": true
   },
   "outputs": [],
   "source": [
    "def checkIfWordsExistInEmbedding(embedding,words):\n",
    "    embedding_words = list(embedding.keys())\n",
    "    for word in words:\n",
    "        if(word in embedding_words):\n",
    "            print(word,\" exists in embedding\")\n",
    "        else:\n",
    "            print(word,\" DOES NOT EXIST IN EMBEDDING\")"
   ]
  },
  {
   "cell_type": "code",
   "execution_count": 102,
   "metadata": {
    "collapsed": true
   },
   "outputs": [],
   "source": [
    "words_I_think_should_be_there = [\"sandstone\",\"limestone\",\"bed\",\"fault\",\"fracture\",\"volcano\",\"tuff\",\"strike\",\"dip\",\"line\"]"
   ]
  },
  {
   "cell_type": "code",
   "execution_count": 103,
   "metadata": {},
   "outputs": [
    {
     "name": "stdout",
     "output_type": "stream",
     "text": [
      "sandstone  DOES NOT EXIST IN EMBEDDING\n",
      "limestone  DOES NOT EXIST IN EMBEDDING\n",
      "bed  DOES NOT EXIST IN EMBEDDING\n",
      "fault  DOES NOT EXIST IN EMBEDDING\n",
      "fracture  DOES NOT EXIST IN EMBEDDING\n",
      "volcano  DOES NOT EXIST IN EMBEDDING\n",
      "tuff  DOES NOT EXIST IN EMBEDDING\n",
      "strike  DOES NOT EXIST IN EMBEDDING\n",
      "dip  DOES NOT EXIST IN EMBEDDING\n",
      "line  DOES NOT EXIST IN EMBEDDING\n"
     ]
    }
   ],
   "source": [
    "checkIfWordsExistInEmbedding(geovec_english_embedding,words_I_think_should_be_there)"
   ]
  },
  {
   "cell_type": "markdown",
   "metadata": {},
   "source": [
    "### Okay, that unfortunately leaves out some obvious geology terms so ~5000 is too small."
   ]
  },
  {
   "cell_type": "markdown",
   "metadata": {},
   "source": [
    "### Let's go big and just use a text file of english words to limit the geovec embedding"
   ]
  },
  {
   "cell_type": "markdown",
   "metadata": {},
   "source": [
    "https://raw.githubusercontent.com/dwyl/english-words/master/words_dictionary.json"
   ]
  },
  {
   "cell_type": "code",
   "execution_count": 104,
   "metadata": {
    "collapsed": true
   },
   "outputs": [],
   "source": [
    "import requests"
   ]
  },
  {
   "cell_type": "code",
   "execution_count": 105,
   "metadata": {
    "collapsed": true
   },
   "outputs": [],
   "source": [
    "url_to_eng_words_as_json = \"https://raw.githubusercontent.com/dwyl/english-words/master/words_dictionary.json\""
   ]
  },
  {
   "cell_type": "code",
   "execution_count": 106,
   "metadata": {
    "collapsed": true
   },
   "outputs": [],
   "source": [
    "eng_words_as_json_r  = requests.get(url_to_eng_words_as_json )\n"
   ]
  },
  {
   "cell_type": "code",
   "execution_count": 107,
   "metadata": {
    "collapsed": true
   },
   "outputs": [],
   "source": [
    "eng_words_as_json = eng_words_as_json_r.json()"
   ]
  },
  {
   "cell_type": "code",
   "execution_count": 108,
   "metadata": {},
   "outputs": [
    {
     "data": {
      "text/plain": [
       "['juergen', 'isocyanic', 'wharve']"
      ]
     },
     "execution_count": 108,
     "metadata": {},
     "output_type": "execute_result"
    }
   ],
   "source": [
    "list(eng_words_as_json.keys())[0:3]"
   ]
  },
  {
   "cell_type": "code",
   "execution_count": 109,
   "metadata": {},
   "outputs": [
    {
     "data": {
      "text/plain": [
       "370101"
      ]
     },
     "execution_count": 109,
     "metadata": {},
     "output_type": "execute_result"
    }
   ],
   "source": [
    "len(eng_words_as_json)"
   ]
  },
  {
   "cell_type": "code",
   "execution_count": 110,
   "metadata": {},
   "outputs": [
    {
     "data": {
      "text/plain": [
       "411845"
      ]
     },
     "execution_count": 110,
     "metadata": {},
     "output_type": "execute_result"
    }
   ],
   "source": [
    "len(new_vector_embedding)"
   ]
  },
  {
   "cell_type": "code",
   "execution_count": 111,
   "metadata": {
    "collapsed": true
   },
   "outputs": [],
   "source": [
    "def limitGeovecEmbeddingToEnglishWords(new_vector_embedding,eng_words_as_json):\n",
    "    english_words = list(eng_words_as_json.keys())\n",
    "    new_english_only_embedding = {}\n",
    "    for word in english_words:\n",
    "        if word in new_vector_embedding:\n",
    "            new_english_only_embedding[word] = new_vector_embedding[word]\n",
    "    return new_english_only_embedding"
   ]
  },
  {
   "cell_type": "code",
   "execution_count": 112,
   "metadata": {
    "collapsed": true
   },
   "outputs": [],
   "source": [
    "new_vector_embedding_english_only2 = limitGeovecEmbeddingToEnglishWords(new_vector_embedding,eng_words_as_json)"
   ]
  },
  {
   "cell_type": "code",
   "execution_count": 113,
   "metadata": {},
   "outputs": [
    {
     "data": {
      "text/plain": [
       "88626"
      ]
     },
     "execution_count": 113,
     "metadata": {},
     "output_type": "execute_result"
    }
   ],
   "source": [
    "len(new_vector_embedding_english_only2)"
   ]
  },
  {
   "cell_type": "code",
   "execution_count": 114,
   "metadata": {},
   "outputs": [
    {
     "name": "stdout",
     "output_type": "stream",
     "text": [
      "sandstone  exists in embedding\n",
      "limestone  exists in embedding\n",
      "bed  exists in embedding\n",
      "fault  exists in embedding\n",
      "fracture  exists in embedding\n",
      "volcano  exists in embedding\n",
      "tuff  exists in embedding\n",
      "strike  exists in embedding\n",
      "dip  exists in embedding\n",
      "line  exists in embedding\n"
     ]
    }
   ],
   "source": [
    "checkIfWordsExistInEmbedding(new_vector_embedding_english_only2,words_I_think_should_be_there)"
   ]
  },
  {
   "cell_type": "code",
   "execution_count": 116,
   "metadata": {},
   "outputs": [
    {
     "data": {
      "text/plain": [
       "['phiomia',\n",
       " 'indent',\n",
       " 'pasiphae',\n",
       " 'turnerian',\n",
       " 'pipa',\n",
       " 'mtg',\n",
       " 'predicament',\n",
       " 'corduroy',\n",
       " 'birdie',\n",
       " 'hentriacontane',\n",
       " 'rhinosporidium',\n",
       " 'unseating',\n",
       " 'crit',\n",
       " 'aleuritic',\n",
       " 'ordovian',\n",
       " 'delude',\n",
       " 'asymbiotic',\n",
       " 'lakeward',\n",
       " 'ernie',\n",
       " 'carabinieri']"
      ]
     },
     "execution_count": 116,
     "metadata": {},
     "output_type": "execute_result"
    }
   ],
   "source": [
    "list(new_vector_embedding_english_only2.keys())[500:520]"
   ]
  },
  {
   "cell_type": "markdown",
   "metadata": {},
   "source": [
    "### Much better result!!!"
   ]
  },
  {
   "cell_type": "markdown",
   "metadata": {},
   "source": [
    "### Now let's remake the vector and metadata for the embedding projector"
   ]
  },
  {
   "cell_type": "code",
   "execution_count": 117,
   "metadata": {
    "collapsed": true
   },
   "outputs": [],
   "source": [
    "def makeVectorTSV(embeddingVectorsOnly):\n",
    "    out_v = io.open('log/vecs.tsv', 'w', encoding='utf-8')\n",
    "    for n,weights in enumerate(embeddingVectorsOnly):\n",
    "        vec = embeddingVectorsOnly[n]\n",
    "        out_v.write('\\t'.join([str(x) for x in vec]) + \"\\n\")"
   ]
  },
  {
   "cell_type": "code",
   "execution_count": 128,
   "metadata": {
    "collapsed": true
   },
   "outputs": [],
   "source": [
    "def makeMetaTSV(words):\n",
    "    with open('log/metadata1.tsv', 'w') as f:\n",
    "#     for word in word2vec.words:\n",
    "        print(len(words),\"length of words\")\n",
    "        for word in words:\n",
    "            f.write(word + '\\n')"
   ]
  },
  {
   "cell_type": "code",
   "execution_count": 132,
   "metadata": {
    "collapsed": true
   },
   "outputs": [],
   "source": [
    "def writeEmbeddingWithWordsAndVectorsToFilesForEmbeddingProjector(embedding):\n",
    "    vectors_only = []\n",
    "    keys_in_array = list(embedding.keys())\n",
    "    for key in keys_in_array:\n",
    "        vectors_only.append(embedding[key])\n",
    "    makeVectorTSV(vectors_only)\n",
    "    makeMetaTSV(keys_in_array)\n",
    "    print(\"done\")"
   ]
  },
  {
   "cell_type": "code",
   "execution_count": 133,
   "metadata": {},
   "outputs": [
    {
     "name": "stdout",
     "output_type": "stream",
     "text": [
      "88626 length of words\n",
      "done\n"
     ]
    }
   ],
   "source": [
    "writeEmbeddingWithWordsAndVectorsToFilesForEmbeddingProjector(new_vector_embedding_english_only2)"
   ]
  },
  {
   "cell_type": "markdown",
   "metadata": {},
   "source": [
    "### TRY"
   ]
  },
  {
   "cell_type": "code",
   "execution_count": 135,
   "metadata": {
    "collapsed": true
   },
   "outputs": [],
   "source": [
    "try:\n",
    "  # %tensorflow_version only exists in Colab.\n",
    "  %tensorflow_version 2.x\n",
    "except Exception:\n",
    "  pass\n",
    "\n",
    "%load_ext tensorboard\n"
   ]
  },
  {
   "cell_type": "code",
   "execution_count": 137,
   "metadata": {},
   "outputs": [
    {
     "ename": "TypeError",
     "evalue": "__init__() got an unexpected keyword argument 'serialized_options'",
     "output_type": "error",
     "traceback": [
      "\u001b[0;31m---------------------------------------------------------------------------\u001b[0m",
      "\u001b[0;31mTypeError\u001b[0m                                 Traceback (most recent call last)",
      "\u001b[0;32m<ipython-input-137-d5c338b6a642>\u001b[0m in \u001b[0;36m<module>\u001b[0;34m()\u001b[0m\n\u001b[1;32m      2\u001b[0m \u001b[0;32mimport\u001b[0m \u001b[0mtensorflow\u001b[0m \u001b[0;32mas\u001b[0m \u001b[0mtf\u001b[0m\u001b[0;34m\u001b[0m\u001b[0m\n\u001b[1;32m      3\u001b[0m \u001b[0;34m\u001b[0m\u001b[0m\n\u001b[0;32m----> 4\u001b[0;31m \u001b[0;32mfrom\u001b[0m \u001b[0mtensorboard\u001b[0m\u001b[0;34m.\u001b[0m\u001b[0mplugins\u001b[0m \u001b[0;32mimport\u001b[0m \u001b[0mprojector\u001b[0m\u001b[0;34m\u001b[0m\u001b[0m\n\u001b[0m",
      "\u001b[0;32m~/anaconda/lib/python3.5/site-packages/tensorboard/plugins/projector/__init__.py\u001b[0m in \u001b[0;36m<module>\u001b[0;34m()\u001b[0m\n\u001b[1;32m     31\u001b[0m \u001b[0;32mfrom\u001b[0m \u001b[0mtensorboard\u001b[0m\u001b[0;34m.\u001b[0m\u001b[0mcompat\u001b[0m \u001b[0;32mimport\u001b[0m \u001b[0mtf\u001b[0m\u001b[0;34m\u001b[0m\u001b[0m\n\u001b[1;32m     32\u001b[0m \u001b[0;32mfrom\u001b[0m \u001b[0mtensorboard\u001b[0m\u001b[0;34m.\u001b[0m\u001b[0mplugins\u001b[0m\u001b[0;34m.\u001b[0m\u001b[0mprojector\u001b[0m \u001b[0;32mimport\u001b[0m \u001b[0mmetadata\u001b[0m \u001b[0;32mas\u001b[0m \u001b[0m_metadata\u001b[0m\u001b[0;34m\u001b[0m\u001b[0m\n\u001b[0;32m---> 33\u001b[0;31m \u001b[0;32mfrom\u001b[0m \u001b[0mtensorboard\u001b[0m\u001b[0;34m.\u001b[0m\u001b[0mplugins\u001b[0m\u001b[0;34m.\u001b[0m\u001b[0mprojector\u001b[0m\u001b[0;34m.\u001b[0m\u001b[0mprojector_config_pb2\u001b[0m \u001b[0;32mimport\u001b[0m \u001b[0mEmbeddingInfo\u001b[0m\u001b[0;34m\u001b[0m\u001b[0m\n\u001b[0m\u001b[1;32m     34\u001b[0m \u001b[0;32mfrom\u001b[0m \u001b[0mtensorboard\u001b[0m\u001b[0;34m.\u001b[0m\u001b[0mplugins\u001b[0m\u001b[0;34m.\u001b[0m\u001b[0mprojector\u001b[0m\u001b[0;34m.\u001b[0m\u001b[0mprojector_config_pb2\u001b[0m \u001b[0;32mimport\u001b[0m \u001b[0mSpriteMetadata\u001b[0m\u001b[0;34m\u001b[0m\u001b[0m\n\u001b[1;32m     35\u001b[0m \u001b[0;32mfrom\u001b[0m \u001b[0mtensorboard\u001b[0m\u001b[0;34m.\u001b[0m\u001b[0mplugins\u001b[0m\u001b[0;34m.\u001b[0m\u001b[0mprojector\u001b[0m\u001b[0;34m.\u001b[0m\u001b[0mprojector_config_pb2\u001b[0m \u001b[0;32mimport\u001b[0m \u001b[0mProjectorConfig\u001b[0m\u001b[0;34m\u001b[0m\u001b[0m\n",
      "\u001b[0;32m~/anaconda/lib/python3.5/site-packages/tensorboard/plugins/projector/projector_config_pb2.py\u001b[0m in \u001b[0;36m<module>\u001b[0;34m()\u001b[0m\n\u001b[1;32m     21\u001b[0m   \u001b[0msyntax\u001b[0m\u001b[0;34m=\u001b[0m\u001b[0;34m'proto3'\u001b[0m\u001b[0;34m,\u001b[0m\u001b[0;34m\u001b[0m\u001b[0m\n\u001b[1;32m     22\u001b[0m   \u001b[0mserialized_options\u001b[0m\u001b[0;34m=\u001b[0m\u001b[0;32mNone\u001b[0m\u001b[0;34m,\u001b[0m\u001b[0;34m\u001b[0m\u001b[0m\n\u001b[0;32m---> 23\u001b[0;31m   \u001b[0mserialized_pb\u001b[0m\u001b[0;34m=\u001b[0m\u001b[0m_b\u001b[0m\u001b[0;34m(\u001b[0m\u001b[0;34m'\\n4tensorboard/plugins/projector/projector_config.proto\\x12\\x15tensorboard.projector\\\">\\n\\x0eSpriteMetadata\\x12\\x12\\n\\nimage_path\\x18\\x01 \\x01(\\t\\x12\\x18\\n\\x10single_image_dim\\x18\\x02 \\x03(\\r\\\"\\xb5\\x01\\n\\rEmbeddingInfo\\x12\\x13\\n\\x0btensor_name\\x18\\x01 \\x01(\\t\\x12\\x15\\n\\rmetadata_path\\x18\\x02 \\x01(\\t\\x12\\x16\\n\\x0e\\x62ookmarks_path\\x18\\x03 \\x01(\\t\\x12\\x14\\n\\x0ctensor_shape\\x18\\x04 \\x03(\\r\\x12\\x35\\n\\x06sprite\\x18\\x05 \\x01(\\x0b\\x32%.tensorboard.projector.SpriteMetadata\\x12\\x13\\n\\x0btensor_path\\x18\\x06 \\x01(\\t\\\"\\x88\\x01\\n\\x0fProjectorConfig\\x12\\x1d\\n\\x15model_checkpoint_path\\x18\\x01 \\x01(\\t\\x12\\x38\\n\\nembeddings\\x18\\x02 \\x03(\\x0b\\x32$.tensorboard.projector.EmbeddingInfo\\x12\\x1c\\n\\x14model_checkpoint_dir\\x18\\x03 \\x01(\\tb\\x06proto3'\u001b[0m\u001b[0;34m)\u001b[0m\u001b[0;34m\u001b[0m\u001b[0m\n\u001b[0m\u001b[1;32m     24\u001b[0m )\n\u001b[1;32m     25\u001b[0m \u001b[0;34m\u001b[0m\u001b[0m\n",
      "\u001b[0;31mTypeError\u001b[0m: __init__() got an unexpected keyword argument 'serialized_options'"
     ]
    }
   ],
   "source": [
    "import os\n",
    "import tensorflow as tf\n",
    "\n",
    "from tensorboard.plugins import projector\n"
   ]
  },
  {
   "cell_type": "code",
   "execution_count": null,
   "metadata": {
    "collapsed": true
   },
   "outputs": [],
   "source": []
  }
 ],
 "metadata": {
  "kernelspec": {
   "display_name": "Python 3",
   "language": "python",
   "name": "python3"
  },
  "language_info": {
   "codemirror_mode": {
    "name": "ipython",
    "version": 3
   },
   "file_extension": ".py",
   "mimetype": "text/x-python",
   "name": "python",
   "nbconvert_exporter": "python",
   "pygments_lexer": "ipython3",
   "version": "3.5.2"
  }
 },
 "nbformat": 4,
 "nbformat_minor": 4
}
