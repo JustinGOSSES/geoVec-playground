{
 "cells": [
  {
   "cell_type": "code",
   "execution_count": 122,
   "metadata": {},
   "outputs": [],
   "source": [
    " #conda install -c anaconda scikit-learn "
   ]
  },
  {
   "cell_type": "code",
   "execution_count": 123,
   "metadata": {},
   "outputs": [],
   "source": [
    "#!pip install h5py"
   ]
  },
  {
   "cell_type": "code",
   "execution_count": 125,
   "metadata": {},
   "outputs": [],
   "source": [
    "import numpy as np\n",
    "from scipy import spatial\n",
    "import matplotlib.pyplot as plt\n",
    "#from sklearn.manifold import TSNE"
   ]
  },
  {
   "cell_type": "code",
   "execution_count": 126,
   "metadata": {},
   "outputs": [],
   "source": [
    "##### DON\"T DO THIS AS IT HAS AlL SORTS OF PROBLEMS ON MACOS AND WINDOWS\n",
    "#!pip install glove_python"
   ]
  },
  {
   "cell_type": "code",
   "execution_count": 127,
   "metadata": {},
   "outputs": [],
   "source": [
    "# import json\n",
    "\n",
    "# import h5py\n",
    "# import numpy as np\n",
    "# from glove import Glove\n",
    "\n",
    "# def load_geovec(path):\n",
    "#     instance = Glove(\"\")\n",
    "#     with h5py.File(path, 'r') as f:\n",
    "#         v = np.zeros(f['vectors'].shape, f['vectors'].dtype)\n",
    "#         f['vectors'].read_direct(v)\n",
    "#         dct = f['dct'][()].tostring().decode('utf-8')\n",
    "#         dct = json.loads(dct)\n",
    "#     instance.word_vectors = v\n",
    "#     instance.no_components = v.shape[1]\n",
    "#     instance.word_biases = np.zeros(v.shape[0])\n",
    "#     instance.add_dictionary(dct)\n",
    "#     return instance\n",
    "\n",
    "# new_model = load_geovec('geovec_300d_v1.h5')"
   ]
  },
  {
   "cell_type": "code",
   "execution_count": null,
   "metadata": {},
   "outputs": [],
   "source": []
  },
  {
   "cell_type": "code",
   "execution_count": 8,
   "metadata": {},
   "outputs": [],
   "source": [
    "with h5py.File('geovec_300d_v1.h5', 'r') as f:\n",
    "        v = np.zeros(f['vectors'].shape, f['vectors'].dtype)\n",
    "        f['vectors'].read_direct(v)\n",
    "        dct = f['dct'][()].tostring().decode('utf-8')\n",
    "        dct = json.loads(dct)"
   ]
  },
  {
   "cell_type": "code",
   "execution_count": 20,
   "metadata": {},
   "outputs": [
    {
     "name": "stdout",
     "output_type": "stream",
     "text": [
      "number of words with vector embeddings 411845\n",
      "number of vectors in each embedding 300\n"
     ]
    }
   ],
   "source": [
    "#### number of words with vector embeddings\n",
    "print(\"number of words with vector embeddings\",len(v))\n",
    "#### Length of vectors\n",
    "print(\"number of vectors in each embedding\",len(v[1]))"
   ]
  },
  {
   "cell_type": "code",
   "execution_count": 27,
   "metadata": {},
   "outputs": [
    {
     "name": "stdout",
     "output_type": "stream",
     "text": [
      "number of words total 411845\n",
      "and what each word in dictionary looks like:  acrodermatitis : 391621\n"
     ]
    }
   ],
   "source": [
    "print(\"number of words total\",len(dct))\n",
    "print(\"and what each word in dictionary looks like: \",list(dct.keys())[0:1][0],\":\",dct[list(dct.keys())[0:1][0]])"
   ]
  },
  {
   "cell_type": "code",
   "execution_count": 28,
   "metadata": {},
   "outputs": [
    {
     "name": "stdout",
     "output_type": "stream",
     "text": [
      "embedding for acrodermatitis [ 2.14973819e-02  3.54598160e-03  4.77534719e-02  4.78067286e-02\n",
      "  1.17590288e-02  2.33181473e-02 -3.30265872e-02  1.04145538e-02\n",
      "  2.94735283e-02  1.76292490e-02  3.28493491e-02 -5.50193898e-02\n",
      " -4.42245863e-02  1.82517376e-02  9.81923658e-03  2.50976533e-02\n",
      " -2.15862114e-02  2.29525547e-02  3.83460931e-02  6.62240991e-03\n",
      " -2.28440519e-02 -3.59909981e-03 -3.00370604e-02  7.05488492e-03\n",
      " -1.05769737e-02  2.60596797e-02  3.80290374e-02  1.60412807e-02\n",
      " -1.29007231e-02  4.02748212e-02 -1.60112903e-02  2.54279445e-03\n",
      " -1.62100010e-02  4.09765076e-03 -1.30509147e-02  1.35210659e-02\n",
      " -2.27812286e-02 -6.74992893e-03 -3.53130512e-04  4.24857810e-02\n",
      "  4.36526351e-02  2.17911061e-02  1.93313900e-02 -2.29305774e-02\n",
      " -3.98880281e-02 -9.33703594e-03  3.27533185e-02  5.75091690e-02\n",
      "  3.55911404e-02  3.56697030e-02 -1.93229970e-02 -7.98947364e-03\n",
      "  7.19980756e-03  3.01554874e-02  1.18414760e-02  2.21565347e-02\n",
      "  1.39588956e-02  2.50078849e-02  2.77456548e-02 -2.04478782e-02\n",
      "  9.29796952e-04 -6.58220705e-03  1.46599449e-02  1.22692809e-02\n",
      " -1.20404800e-02  3.89050059e-02  2.59135338e-03  4.98056673e-02\n",
      "  7.02090678e-04 -1.59686077e-02  3.17037851e-02 -1.66921169e-02\n",
      "  2.12845169e-02  3.23234336e-03 -9.68716014e-03  2.08827294e-02\n",
      " -2.20393315e-02 -1.60487350e-02 -6.51785173e-03 -5.13372682e-02\n",
      " -1.24659296e-02  1.43541750e-02  1.96209382e-02  1.19900974e-02\n",
      " -5.66662289e-03 -2.83928551e-02 -2.13999320e-02 -1.98144112e-02\n",
      "  1.78322587e-02  3.61205935e-02  1.81435887e-02 -4.40385602e-02\n",
      "  1.01028839e-02  5.43047022e-03 -1.65896509e-02 -6.04715606e-04\n",
      " -2.08751131e-02 -2.51951092e-03  1.59743577e-02 -1.82590783e-02\n",
      "  3.62116359e-02  2.30260976e-02  6.11918792e-03  2.83546560e-02\n",
      "  3.63721587e-02  2.13112459e-02  8.09391495e-03  2.66113896e-02\n",
      " -4.25905135e-04  4.44074720e-02  3.08294687e-03 -3.04689296e-02\n",
      "  2.03943495e-02 -1.59237292e-02  2.01299135e-02 -2.18885820e-02\n",
      "  5.27934870e-03 -3.05727068e-02  4.41627996e-03 -3.02263685e-02\n",
      " -2.03108266e-02  1.91632267e-02 -1.53189981e-02 -2.88745034e-02\n",
      " -5.83090633e-02  1.52602568e-02  1.17646425e-03 -2.81848875e-03\n",
      " -1.77240316e-02 -4.84348927e-03 -2.89313849e-02 -1.30472118e-02\n",
      " -6.34984253e-03  2.23114975e-02  1.05271460e-02  7.09842891e-04\n",
      " -1.61968730e-02 -7.30716391e-03  2.35040151e-02  1.01555195e-02\n",
      "  2.70135980e-02  2.64211558e-02 -1.51980808e-02  3.48691940e-02\n",
      "  1.42039303e-02  2.60456186e-03 -3.95941176e-02  5.34166396e-03\n",
      "  4.87501137e-02 -4.96817520e-03 -2.53795162e-02  1.18946647e-02\n",
      " -1.01929540e-02 -1.53890178e-02 -1.76931806e-02  4.18040482e-03\n",
      "  2.41322797e-02 -1.14066470e-02  6.12265011e-03  1.95911173e-02\n",
      "  2.77570840e-02  1.99424592e-03 -7.40068406e-03 -4.94151786e-02\n",
      "  2.90932748e-02  1.19669698e-02  8.70522484e-03 -2.24969592e-02\n",
      " -2.02495903e-02 -4.52310815e-02 -3.26838065e-03 -2.79623223e-03\n",
      "  3.42045724e-03 -4.32943366e-02 -2.92485394e-02  1.92005895e-02\n",
      " -8.38350784e-03  8.47931486e-03 -7.38260290e-03  4.01896378e-03\n",
      "  4.28952556e-03 -1.43073164e-02  1.68694351e-02 -9.73304920e-03\n",
      "  1.56094006e-03  2.12623198e-02 -1.84264034e-02  1.97724369e-03\n",
      "  2.27683429e-02 -1.05288029e-02 -2.94228606e-02 -1.28255878e-02\n",
      " -2.85087861e-02 -2.23932671e-03  2.80051641e-02 -2.31999643e-02\n",
      " -6.20532874e-03  5.24375914e-03 -9.87625681e-03  5.06147929e-02\n",
      " -1.23001691e-02 -3.83031331e-02 -1.94737539e-02 -6.41896436e-03\n",
      " -1.77073479e-02 -4.78789583e-02 -1.07676741e-02 -3.20272110e-02\n",
      "  1.88208707e-02 -1.94697157e-02 -2.48955339e-02 -8.84655584e-03\n",
      "  4.25807647e-02  2.24879906e-02  3.45966616e-03  1.50735974e-02\n",
      " -1.40801882e-02 -9.65681579e-03 -1.47380657e-03 -3.34318951e-02\n",
      "  2.80054267e-02  2.60639954e-02  2.21503135e-02 -1.49941556e-02\n",
      "  1.24347778e-02  2.32335925e-02  2.70025413e-02 -1.34797059e-02\n",
      " -1.08819501e-02 -2.19717938e-02 -1.67791042e-02  4.25624810e-02\n",
      "  1.06274961e-02 -3.50405723e-02  6.65106345e-04  2.24141497e-02\n",
      " -2.08849292e-02 -3.41290198e-02  3.20449173e-02 -9.15627345e-04\n",
      "  6.70802593e-02  1.26132220e-02 -3.07596624e-02  3.88195913e-04\n",
      "  3.03201657e-02  6.21471182e-03 -2.70464309e-02  2.08262745e-02\n",
      "  1.59443226e-02 -1.07012615e-02  2.68454142e-02 -1.40027795e-02\n",
      "  3.49567607e-02 -3.41518708e-02  3.26485597e-02  1.20633161e-02\n",
      "  3.35888704e-04 -4.04036324e-03  5.34426374e-03 -2.19369214e-02\n",
      " -2.39136294e-02 -6.83886884e-03 -3.69636714e-02 -1.99336801e-02\n",
      " -7.38115935e-03  8.03342834e-03 -2.64239442e-02  2.96763796e-02\n",
      "  3.36564295e-02  9.23472643e-03  1.44549524e-02  7.06988340e-03\n",
      " -2.91814897e-02  2.36636624e-02  4.71610622e-03  5.53552643e-04\n",
      "  4.96259145e-03 -1.94699969e-02  1.74889490e-02 -1.00082997e-02\n",
      " -2.08951645e-02 -4.12994996e-02 -1.17933042e-02 -1.54148871e-02\n",
      " -3.33946943e-02  1.98158473e-02  2.51641236e-02 -5.29359607e-03\n",
      "  5.26997307e-03 -7.25202626e-05 -5.35767972e-02 -1.19735682e-02\n",
      " -6.31901901e-03 -2.38375254e-02 -3.35687175e-02 -2.85896584e-02\n",
      "  1.01019340e-02 -4.22223322e-02 -5.82430623e-02  2.82554049e-03]\n"
     ]
    }
   ],
   "source": [
    "print(\"embedding for acrodermatitis\",v[dct[list(dct.keys())[0:1][0]]])"
   ]
  },
  {
   "cell_type": "code",
   "execution_count": 15,
   "metadata": {},
   "outputs": [
    {
     "data": {
      "text/plain": [
       "['acrodermatitis',\n",
       " 'groenlandica',\n",
       " 'microbaculatus',\n",
       " 'typotheriopsis',\n",
       " 'cvesicle',\n",
       " 'epss',\n",
       " 'mników',\n",
       " 'istin',\n",
       " 'vlvg',\n",
       " 'heatflux']"
      ]
     },
     "execution_count": 15,
     "metadata": {},
     "output_type": "execute_result"
    }
   ],
   "source": [
    "list(dct.keys())[0:10]"
   ]
  },
  {
   "cell_type": "code",
   "execution_count": 55,
   "metadata": {},
   "outputs": [
    {
     "data": {
      "text/plain": [
       "numpy.ndarray"
      ]
     },
     "execution_count": 55,
     "metadata": {},
     "output_type": "execute_result"
    }
   ],
   "source": [
    "type(v)"
   ]
  },
  {
   "cell_type": "code",
   "execution_count": 128,
   "metadata": {},
   "outputs": [],
   "source": [
    "#v"
   ]
  },
  {
   "cell_type": "code",
   "execution_count": 93,
   "metadata": {},
   "outputs": [],
   "source": [
    "def replaceIntsWithWords(vectors,dictionary):\n",
    "    words = list(dct.keys())\n",
    "    embeddings_dict = {}\n",
    "    for word in words:\n",
    "        embeddings_dict[word] = np.asarray(v[dictionary[word]][:],\"float32\")\n",
    "    return embeddings_dict"
   ]
  },
  {
   "cell_type": "code",
   "execution_count": 94,
   "metadata": {},
   "outputs": [],
   "source": [
    "new_vector_embedding = replaceIntsWithWords(v,dct)"
   ]
  },
  {
   "cell_type": "code",
   "execution_count": 129,
   "metadata": {},
   "outputs": [],
   "source": [
    "#new_vector_embedding"
   ]
  },
  {
   "cell_type": "code",
   "execution_count": 130,
   "metadata": {},
   "outputs": [
    {
     "data": {
      "text/plain": [
       "array([ 0.03063519, -0.41190132, -0.01748249, -0.03562951, -0.44922313,\n",
       "       -0.23300318,  0.22224723, -0.07885347,  0.02758265, -0.07660752,\n",
       "       -0.39882764,  0.19357805, -0.03862172, -0.16392523, -0.08809105,\n",
       "       -0.15323128, -0.17489772,  0.14711891,  0.10426124, -0.02329986,\n",
       "        0.09977868,  0.23435533,  0.3037015 , -0.6652086 , -0.1779219 ,\n",
       "        0.16997509, -0.0749488 , -0.4623773 , -0.18799299, -0.04015233,\n",
       "       -0.1230348 , -0.324141  ,  0.32538635,  0.27751258, -0.04844321,\n",
       "        0.04106978,  0.3250498 ,  0.4131149 ,  0.41197386,  0.05734786,\n",
       "       -0.28493047,  0.05330373, -0.30320197, -0.6228066 ,  0.17232999,\n",
       "        0.13726279,  0.02862607,  0.00987866, -0.22104132, -0.27486506,\n",
       "        0.3875012 ,  0.05712619,  0.30534878, -0.17705044, -0.19142899,\n",
       "       -0.1692242 , -0.3759296 ,  0.35963646, -0.02505949,  0.05952422,\n",
       "        0.33059987,  0.18033917,  0.05865888,  0.1908917 ,  0.03191795,\n",
       "       -0.3452011 , -0.4242747 ,  0.02242155, -0.08702113, -0.36016336,\n",
       "       -0.09096049, -0.15263985, -0.10395551,  0.3015002 , -0.19887997,\n",
       "        0.17470044,  0.4872355 ,  0.17027885,  0.1629167 ,  0.2500491 ,\n",
       "        0.0590988 , -0.30714718,  0.33032542, -0.54410225,  0.2931073 ,\n",
       "       -0.0657116 , -0.0493247 , -0.04416075,  0.23244466, -0.4811705 ,\n",
       "       -0.11674033,  0.5065609 , -0.23595892, -0.40718448,  0.03079501,\n",
       "       -0.02404374, -0.05897579, -0.40997535, -0.29971278, -0.06485663,\n",
       "       -0.0735241 , -0.57915825,  0.04794372,  0.15152007, -0.38089737,\n",
       "        0.04072325, -0.0973587 , -0.281366  , -0.0866443 ,  0.07327744,\n",
       "       -0.1289843 , -0.03622092, -0.16641869, -0.02401751,  0.01719305,\n",
       "       -0.18703395,  0.36526188,  0.3011297 ,  0.10935438,  0.2580626 ,\n",
       "        0.34569156, -0.14707701,  0.26744878, -0.23805387, -0.06046972,\n",
       "        0.43298253, -0.38266245, -0.2280435 , -0.09001176,  0.22924648,\n",
       "        0.01707637, -0.21080957, -0.2534994 , -0.20905982, -0.31777838,\n",
       "        0.02439837,  0.18417667,  0.14000054, -0.15615216, -0.2249662 ,\n",
       "       -0.02894812, -0.33743653, -0.41191328, -0.05852659, -0.33302596,\n",
       "        0.04976951,  0.5980457 , -0.04356075, -0.18495524,  0.20690395,\n",
       "        0.05941332, -0.32292056,  0.17914008, -0.500527  , -0.26573032,\n",
       "       -0.08153787,  0.12664302, -0.33359897,  0.25827253,  0.1932546 ,\n",
       "        0.24806926, -0.10873552, -0.4112353 , -0.48139846, -0.24745034,\n",
       "        0.4930274 ,  0.20221478,  0.1466965 ,  0.27478045,  0.08422571,\n",
       "        0.0078306 ,  0.00467938,  0.12200137,  0.38119838,  0.63320845,\n",
       "       -0.23246406,  0.13708606, -0.07137589, -0.06196122, -0.3991872 ,\n",
       "       -0.16195753,  0.39561355,  0.1375364 , -0.34327468,  0.160251  ,\n",
       "        0.2830336 , -0.0162445 ,  0.4052586 , -0.11772639,  0.08404472,\n",
       "       -0.07816593, -0.04536095, -0.15027593, -0.07181185, -0.40633082,\n",
       "       -0.13952276,  0.1901891 ,  0.46117383, -0.04458065, -0.4252203 ,\n",
       "       -0.36120528,  0.30159628,  0.39013577,  0.0528173 , -0.12946293,\n",
       "        0.3917904 , -0.16849914, -0.24559385, -0.20524621, -0.00520904,\n",
       "        0.02467151,  0.3680092 , -0.13684408, -0.03159561, -0.17883603,\n",
       "       -0.21492326,  0.53078973,  0.33911052,  0.09338158, -0.23546411,\n",
       "       -0.09534077,  0.2798333 ,  0.11799586, -0.351914  , -0.06308249,\n",
       "        0.11057905, -0.12907316,  0.07775687,  0.03375599,  0.22878551,\n",
       "       -0.19734228, -0.15298705,  0.03418294, -0.1719191 ,  0.23001723,\n",
       "       -0.23243229,  0.16741559,  0.05114592, -0.06052561, -0.46340165,\n",
       "       -0.46262592, -0.6035481 ,  0.16142583, -0.48702064, -0.19704111,\n",
       "       -0.46407148, -0.05907227, -0.17363416, -0.04588016,  0.08782403,\n",
       "        0.45838422, -0.01058303, -0.36841273,  0.03393587, -0.00892907,\n",
       "        0.01773651, -0.02713825, -0.18003365, -0.23333898, -0.23033081,\n",
       "        0.22356518, -0.19672231,  0.07019778,  0.34114864,  0.21038549,\n",
       "       -0.01267198, -0.0917694 , -0.5532432 , -0.21704294, -0.51371676,\n",
       "        0.04314219,  0.05385855, -0.20565934, -0.12910867, -0.38981983,\n",
       "       -0.22497126,  0.25124222,  0.10278568, -0.34534988, -0.13590793,\n",
       "        0.43126598,  0.22235622, -0.29292405, -0.01442697,  0.19515485,\n",
       "        0.08376491, -0.4344467 , -0.12742433, -0.17324965, -0.12557042,\n",
       "        0.13236505,  0.29445967,  0.02982007, -0.22455895,  0.16065286,\n",
       "       -0.20524757,  0.08688244,  0.22455838,  0.11694988, -0.00187241],\n",
       "      dtype=float32)"
      ]
     },
     "execution_count": 130,
     "metadata": {},
     "output_type": "execute_result"
    }
   ],
   "source": [
    "new_vector_embedding[\"sandstone\"]"
   ]
  },
  {
   "cell_type": "code",
   "execution_count": 131,
   "metadata": {},
   "outputs": [],
   "source": []
  },
  {
   "cell_type": "code",
   "execution_count": 132,
   "metadata": {},
   "outputs": [],
   "source": [
    "def find_closest_embeddings(embeddings_dict,central_word):\n",
    "    return sorted(embeddings_dict.keys(), key=lambda word: spatial.distance.euclidean(embeddings_dict[word], embeddings_dict[central_word]))"
   ]
  },
  {
   "cell_type": "code",
   "execution_count": 133,
   "metadata": {},
   "outputs": [
    {
     "data": {
      "text/plain": [
       "411845"
      ]
     },
     "execution_count": 133,
     "metadata": {},
     "output_type": "execute_result"
    }
   ],
   "source": [
    "len(new_vector_embedding.keys())"
   ]
  },
  {
   "cell_type": "code",
   "execution_count": 134,
   "metadata": {},
   "outputs": [
    {
     "data": {
      "text/plain": [
       "4.911217212677002"
      ]
     },
     "execution_count": 134,
     "metadata": {},
     "output_type": "execute_result"
    }
   ],
   "source": [
    "spatial.distance.euclidean(new_vector_embedding['sandstone'], new_vector_embedding['granite'])"
   ]
  },
  {
   "cell_type": "code",
   "execution_count": 135,
   "metadata": {},
   "outputs": [
    {
     "data": {
      "text/plain": [
       "['sandstone',\n",
       " 'siltstone',\n",
       " 'mudstone',\n",
       " 'arkosic',\n",
       " 'conglomerate',\n",
       " 'rothbach',\n",
       " 'gröden',\n",
       " 'sonta',\n",
       " 'mudstones',\n",
       " 'interbedded']"
      ]
     },
     "execution_count": 135,
     "metadata": {},
     "output_type": "execute_result"
    }
   ],
   "source": [
    "find_closest_embeddings(new_vector_embedding,\"sandstone\")[0:10]"
   ]
  },
  {
   "cell_type": "code",
   "execution_count": 118,
   "metadata": {},
   "outputs": [
    {
     "data": {
      "text/plain": [
       "['granite',\n",
       " 'granitic',\n",
       " 'ebat',\n",
       " 'tuaní',\n",
       " 'kibe',\n",
       " 'lavadores',\n",
       " 'baerzhe',\n",
       " 'daguzhai',\n",
       " 'cooyerdoo',\n",
       " 'qôrqut']"
      ]
     },
     "execution_count": 118,
     "metadata": {},
     "output_type": "execute_result"
    }
   ],
   "source": [
    "find_closest_embeddings(new_vector_embedding,\"granite\")[0:10]"
   ]
  },
  {
   "cell_type": "code",
   "execution_count": 121,
   "metadata": {},
   "outputs": [
    {
     "data": {
      "text/plain": [
       "['crossbedding',\n",
       " 'lumi',\n",
       " 'unrein',\n",
       " 'superface',\n",
       " 'boundinaged',\n",
       " 'staretsky',\n",
       " 'essikado',\n",
       " 'gerlarch',\n",
       " 'doucette',\n",
       " 'szenleng',\n",
       " 'rhune',\n",
       " 'shihui',\n",
       " 'gackowa',\n",
       " 'lenticularity',\n",
       " 'tenappera',\n",
       " 'karlshafen',\n",
       " 'håkjerringdjupet',\n",
       " 'anorbital',\n",
       " 'eludicate',\n",
       " 'torom']"
      ]
     },
     "execution_count": 121,
     "metadata": {},
     "output_type": "execute_result"
    }
   ],
   "source": [
    "find_closest_embeddings(new_vector_embedding,\"crossbedding\")[0:20]"
   ]
  },
  {
   "cell_type": "markdown",
   "metadata": {},
   "source": [
    "Looks like this is a lot of non-English words?"
   ]
  },
  {
   "cell_type": "code",
   "execution_count": null,
   "metadata": {},
   "outputs": [],
   "source": []
  },
  {
   "cell_type": "code",
   "execution_count": null,
   "metadata": {},
   "outputs": [],
   "source": []
  },
  {
   "cell_type": "code",
   "execution_count": null,
   "metadata": {},
   "outputs": [],
   "source": []
  },
  {
   "cell_type": "code",
   "execution_count": null,
   "metadata": {},
   "outputs": [],
   "source": []
  }
 ],
 "metadata": {
  "kernelspec": {
   "display_name": "Python 3",
   "language": "python",
   "name": "python3"
  },
  "language_info": {
   "codemirror_mode": {
    "name": "ipython",
    "version": 3
   },
   "file_extension": ".py",
   "mimetype": "text/x-python",
   "name": "python",
   "nbconvert_exporter": "python",
   "pygments_lexer": "ipython3",
   "version": "3.6.10"
  }
 },
 "nbformat": 4,
 "nbformat_minor": 4
}
